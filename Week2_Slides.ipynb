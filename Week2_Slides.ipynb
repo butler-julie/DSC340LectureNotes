{
 "cells": [
  {
   "cell_type": "markdown",
   "id": "82ca5a19",
   "metadata": {
    "slideshow": {
     "slide_type": "slide"
    }
   },
   "source": [
    "# Introduction to Machine Learning\n",
    "\n",
    "## DSC 340 Week 1 Slides\n",
    "\n",
    "[Dr. Julie Butler](juliebutler.org)\n",
    "\n",
    "\n",
    "August 28 - September 1, 2023\n"
   ]
  },
  {
   "cell_type": "markdown",
   "id": "cb5f4df7",
   "metadata": {
    "slideshow": {
     "slide_type": "slide"
    }
   },
   "source": [
    "## Plans for the Week\n",
    "\n",
    "### Monday\n",
    "* Linear Regression and the Machine Learning Workflow\n",
    "* Week 1 In-Class Assignment and Week 2 Pre-Class Due\n",
    "* Suggested Reading: Hands-On Chapter 2 and Chapter 4 (only about linear regression)\n",
    "\n",
    "### Wednesday \n",
    "* Finish \"Linear Regression and the Machine Learning Workflow\"\n",
    "* Start In-Class Assignment: Revisting Nuclear Binding Energies with Linear Regression\n",
    "* Week 1 Post-Class Due\n",
    "* Suggested Reading: Hands-On Chapter 2 and Chapter 4 (only about linear regression)\n",
    "\n",
    "### Friday\n",
    "* Finish In-Class Assignment: Revisting Nuclear Binding Energies with Linear Regression\n",
    "* Suggested Reading: Hands-On Chapter 2 and Chapter 4 (only about linear regression)"
   ]
  },
  {
   "cell_type": "markdown",
   "id": "dadf0de5",
   "metadata": {
    "slideshow": {
     "slide_type": "slide"
    }
   },
   "source": [
    "# Part 1: Linear Regression"
   ]
  },
  {
   "cell_type": "markdown",
   "id": "7741e55c",
   "metadata": {
    "slideshow": {
     "slide_type": "slide"
    }
   },
   "source": [
    "# Part 2: The Machine Learning Workflow with Linear Regression"
   ]
  },
  {
   "cell_type": "markdown",
   "id": "2af0c97c",
   "metadata": {
    "slideshow": {
     "slide_type": "slide"
    }
   },
   "source": [
    "## The Machine Learning Workflow\n",
    "\n",
    "* General Steps of any machine learning analysis:\n",
    "    * Import the data set, perform an initial analysis\n",
    "    * Split the data into a training set and a test set\n",
    "    * Train the machine learning algorithm with the training set\n",
    "    * Test the performance of the trained model with the test set using numerical metrics and visual analysis\n",
    "    * (Optional) Improve the performance of the algorithm by either reformatting the data OR changing the parameters of the machine learning algorithm\n",
    "\n",
    "* Helpful Checklist: Appendix B"
   ]
  },
  {
   "cell_type": "code",
   "execution_count": null,
   "id": "290b949c",
   "metadata": {},
   "outputs": [],
   "source": [
    " "
   ]
  }
 ],
 "metadata": {
  "celltoolbar": "Slideshow",
  "kernelspec": {
   "display_name": "Python 3 (ipykernel)",
   "language": "python",
   "name": "python3"
  },
  "language_info": {
   "codemirror_mode": {
    "name": "ipython",
    "version": 3
   },
   "file_extension": ".py",
   "mimetype": "text/x-python",
   "name": "python",
   "nbconvert_exporter": "python",
   "pygments_lexer": "ipython3",
   "version": "3.9.6"
  }
 },
 "nbformat": 4,
 "nbformat_minor": 5
}
