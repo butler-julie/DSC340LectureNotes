{
 "cells": [
  {
   "cell_type": "markdown",
   "id": "05142643",
   "metadata": {
    "slideshow": {
     "slide_type": "slide"
    }
   },
   "source": [
    "# Introduction to Machine Learning\n",
    "\n",
    "## DSC 340 Week 1 Slides\n",
    "\n",
    "[Dr. Julie Butler](juliebutler.org)\n",
    "\n",
    "\n",
    "August 21 - August 24, 2023\n",
    "\n"
   ]
  },
  {
   "cell_type": "markdown",
   "id": "6dd1b53f",
   "metadata": {
    "slideshow": {
     "slide_type": "slide"
    }
   },
   "source": [
    "## Plan for the Week\n",
    "\n",
    "### Monday (August 21)\n",
    "* Syllabus Day\n",
    "* Lecture: Why should you learn what machine learning is and not just how to use it?\n",
    "* Office hours: 12:30pm to 3pm (Bracy 107)\n",
    "\n",
    "### Tuesday (August 22)\n",
    "* Office hours: 3:30pm to 6pm (Bracy 107)\n",
    "\n",
    "### Wednesday (August 23)\n",
    "* Lecture: Introduction to Machine Learning\n",
    "\n",
    "### Thursday (August 24)\n",
    "* Week 2 Pre-class homework released\n",
    "\n",
    "### Friday (August 25)\n",
    "* In-class Assignment #1: Mathematics of Machine Learning Crash Course\n",
    "* In-class Assignment #2: Introduction to Data Science Libraries\n",
    "* Week 1 Post-class assignment released\n"
   ]
  },
  {
   "cell_type": "markdown",
   "id": "718d5ecf",
   "metadata": {
    "slideshow": {
     "slide_type": "slide"
    }
   },
   "source": [
    "## Syllabus Review (~15 minutes)\n",
    "* All material is located at [juliebutler.org/classes/dsc340](https://www.juliebutler.org/classes/dsc340)\n",
    "* In small groups or alone:\n",
    "    * Review the syllabus\n",
    "    * Add any questions you have about the syllabus to the “Syllabus Review” thread on the Discord (or email them to me)\n",
    "* I will answer some of the questions in class and the rest of the questions after class\n"
   ]
  },
  {
   "cell_type": "markdown",
   "id": "a7c27d0d",
   "metadata": {
    "slideshow": {
     "slide_type": "slide"
    }
   },
   "source": [
    "### What do you know about machine learning? Why are you taking this class? (~5 minutes)\n",
    "Discuss these questions with your group and write (or type) some of your thoughts.  We will have a class discussion after the small group discussions."
   ]
  },
  {
   "cell_type": "markdown",
   "id": "ffabf0dc",
   "metadata": {
    "slideshow": {
     "slide_type": "slide"
    }
   },
   "source": [
    "## Why should you learn what machine learning is and not just how to use it?\n",
    "* Knowing how each machine learning algorithm works will make you a better machine learning engineer \n",
    "* If you know how an algorithm works you will know how to best use it and how to improve it\n",
    "* You will know what type of machine learning task you are trying to do and which algorithms work best\n",
    "* You will learn which machine learning algorithms will work best for different data sets"
   ]
  },
  {
   "cell_type": "markdown",
   "id": "f9950446",
   "metadata": {
    "slideshow": {
     "slide_type": "slide"
    }
   },
   "source": [
    "## The end goal of this class is to do a machine learning project from coming up with the idea to \"publishing\" and presenting the results."
   ]
  },
  {
   "cell_type": "markdown",
   "id": "27ced7d5",
   "metadata": {
    "slideshow": {
     "slide_type": "slide"
    }
   },
   "source": [
    "## Final Project Ideas\n",
    "\n",
    "You can use ChatGTP to generate ideas for this project BUT you cannot use it to complete this project nor can you propose a project based on ChatGTP.\n",
    "\n",
    "### Science and Engineering\n",
    "* Can you classify a type of animal or plant into different subspecies? \n",
    "* Can you predict the likelihood a person will develop a disease?\n",
    "* Can you use acceleration to predict the position of an object? \n",
    "* Can you solve Schrodinger's equation with machine learning?\n",
    "* Can you predict properties of different elements/isotopes/molecules? \n",
    "* Can you classify organic molecules based on their chemical structure or their atoms?\n",
    "* Can you classify the type of bridge based on an image or building materials? \n",
    "* Can you predict the future temperatures of a certain city?\n",
    "* Can you use machine learning to solve Navier-Stokes equations?\n"
   ]
  },
  {
   "cell_type": "markdown",
   "id": "01c6c0e0",
   "metadata": {
    "slideshow": {
     "slide_type": "slide"
    }
   },
   "source": [
    "### Business and Finance\n",
    "* Can you predict the future values of a certain stock?\n",
    "* Can you determine a businesses expected profit at the end of the year given beginning of the year statistics (or a previous years)?\n",
    "\n",
    "\n",
    "### Sports\n",
    "* Can you predict if a college football player will be drafted by the NFL and in what round of the draft?\n",
    "* Can you predict a baseball player's batting average?\n",
    "* Can you predict what team a soccer player belongs to?\n",
    "\n",
    "### Hobbies\n",
    "* Can you predict the type or generation of a Pokemon based on certain stats?\n",
    "* Can you predict the color of a Magic the Gathering card based on its stats and keywords?\n",
    "* Can you predict the challenge rating of a monster in Dungeons and Dragons 5e?"
   ]
  },
  {
   "cell_type": "markdown",
   "id": "fbfaa822",
   "metadata": {
    "slideshow": {
     "slide_type": "slide"
    }
   },
   "source": [
    "## What is Machine Learning?\n",
    "\n"
   ]
  },
  {
   "cell_type": "markdown",
   "id": "ab30d4b7",
   "metadata": {
    "slideshow": {
     "slide_type": "slide"
    }
   },
   "source": [
    "##  What is Machine Learning?\n",
    "* There has been much recent interest in machine learning and artifical intelligence (ChatGTP, self-driving cars, etc.) but generally not a good explantion of what it is.\n",
    "* Machine learning is the field that occurs at artificial intelligence and data science; it is a collection of programs that learn from given data"
   ]
  },
  {
   "cell_type": "markdown",
   "id": "48e68553",
   "metadata": {
    "slideshow": {
     "slide_type": "slide"
    }
   },
   "source": [
    "## When is Machine Learning Useful?\n",
    "* Large datsets\n",
    "* Datasets with unknown patterns\n",
    "* Image and video analysis\n",
    "* Text processing (Natural Language Processing)\n",
    "* Predicting future values"
   ]
  },
  {
   "cell_type": "markdown",
   "id": "2b8acb87",
   "metadata": {
    "slideshow": {
     "slide_type": "slide"
    }
   },
   "source": [
    "## The Machine Learning Workflow\n",
    "\n",
    "1. Importing your data set and formatting it\n",
    "2. Splitting the data into a training set and a test set\n",
    "3. Training your machine learning model with the training set\n",
    "4. Evaluate the trained model's performance with the test set\n",
    "5. (Optional) Make improvements to your model to increase its performance\n",
    "\n"
   ]
  },
  {
   "cell_type": "markdown",
   "id": "51ce961b",
   "metadata": {
    "slideshow": {
     "slide_type": "slide"
    }
   },
   "source": [
    "## Types of Machine Learning\n",
    "* Machine learning algorithms are classified on what kind of data they take\n",
    "* Data sets have two components:\n",
    "    - X: the inputs or the independent variables; features\n",
    "    - y: the outputs or the dependent variables; labels"
   ]
  },
  {
   "cell_type": "markdown",
   "id": "731b5ec7",
   "metadata": {
    "slideshow": {
     "slide_type": "slide"
    }
   },
   "source": [
    "## Supervised Learning\n",
    "* Takes labelled data (i.e. both X and y) and learns the pattern between the features and the labels\n",
    "* Two types of supervised learning based on the task\n",
    "    - Classification\n",
    "        * Sorting inputs into a set number of categories\n",
    "        * Ex: Given a picture, determine if the picture shows a cat or a dog (two categories)\n",
    "    - Regression\n",
    "        * Infinite number of possible outputs\n",
    "        * Approximating a function f such that $f(X) \\approx y$\n",
    "        * Ex: Given some information on a house, what price should it sale for?\n",
    "* Examples: k-nearest neighbors, linear regression, support vector machines, neural networks"
   ]
  },
  {
   "cell_type": "markdown",
   "id": "9de19f27",
   "metadata": {
    "slideshow": {
     "slide_type": "slide"
    }
   },
   "source": [
    "## Unsupervised Learning\n",
    "* Learn patterns from unlabelled data (i.e. its given only X)\n",
    "* Can also be roughly split into two categories depending on the task\n",
    "    * Clustering\n",
    "        * Unsupervised version of classification\n",
    "        * How many categories can the data be split into?\n",
    "        * Given information of a bunch of different iris flowers, how many species are present?\n",
    "    * Dimensionality Reduction\n",
    "        * Reduces the number of features by combining similar features\n",
    "        * When trying to determine if a person is at risk for diabetes you are given 8 measures of a person's health.  Can the total number of features be reduced by combining similar ones?\n",
    "        * Supervised algorithms may perform better on data sets with many features if dimensionality reduction is preform first\n",
    "* Ex: principal component analysis (PCA), k-means, and hierarchical cluster analysis (HCA)"
   ]
  },
  {
   "cell_type": "markdown",
   "id": "fcef0eb1",
   "metadata": {
    "slideshow": {
     "slide_type": "slide"
    }
   },
   "source": [
    "## Semisupervised Learning\n",
    "* Most data is unlabelled but some is labelled\n",
    "* Not always considered a separate type of machine learning\n",
    "* Ex: Photo apps will identify and group faces together, you have to provide the names of each person"
   ]
  },
  {
   "cell_type": "markdown",
   "id": "1d2c6260",
   "metadata": {
    "slideshow": {
     "slide_type": "slide"
    }
   },
   "source": [
    "## Reinforcement Learning\n",
    "* Based around an agent that learns to perform a task by maximizing a reward\n",
    "* Common in fields such as robotics"
   ]
  },
  {
   "cell_type": "markdown",
   "id": "ac6873ce",
   "metadata": {
    "slideshow": {
     "slide_type": "slide"
    }
   },
   "source": [
    "## Offline vs. Online Learning\n",
    "* Offline Learning\n",
    "    - All training data is given to the algorithm at once to train\n",
    "    - If new data is added to the training set, need to entirely retrain with the old and the new data\n",
    "* Online Learning\n",
    "    - Training data can be given in batches at any time, online algorithms can improve themselves at any time if given new data\n",
    "* Most algorithms in this class will use offline learning, but online learning does have advantages when it comes to memory"
   ]
  },
  {
   "cell_type": "markdown",
   "id": "de0a4042",
   "metadata": {
    "slideshow": {
     "slide_type": "slide"
    }
   },
   "source": [
    "## Challenges of Machine Learning\n",
    "\n",
    "### Problems with Data Sets\n",
    "* Small training sets\n",
    "* Poor quality data\n",
    "* Too many features or irrelevant features\n",
    "* Overfitting or underfitting\n",
    "\n",
    "### Computational Limitations\n",
    "* Memory (RAM)\n",
    "* Lack of GPUs and computing clusters"
   ]
  }
 ],
 "metadata": {
  "celltoolbar": "Slideshow",
  "kernelspec": {
   "display_name": "Python 3 (ipykernel)",
   "language": "python",
   "name": "python3"
  },
  "language_info": {
   "codemirror_mode": {
    "name": "ipython",
    "version": 3
   },
   "file_extension": ".py",
   "mimetype": "text/x-python",
   "name": "python",
   "nbconvert_exporter": "python",
   "pygments_lexer": "ipython3",
   "version": "3.9.6"
  }
 },
 "nbformat": 4,
 "nbformat_minor": 5
}
