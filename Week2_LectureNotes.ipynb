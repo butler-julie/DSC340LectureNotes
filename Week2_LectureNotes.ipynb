{
 "cells": [
  {
   "cell_type": "markdown",
   "id": "fb5eb4c7-f7d8-4213-a29f-682e1cbbfb38",
   "metadata": {},
   "source": [
    "# Linear Regression and the Machine Learning Workflow\n",
    "\n",
    "## CSC/DSC 340 Week 2 Lecture Notes\n",
    "\n",
    "Dr. [Julie Butler](juliebutler.org)\n",
    "\n",
    "Week of August 28 - September 1, 2023"
   ]
  },
  {
   "cell_type": "markdown",
   "id": "c58c13a4-b3f6-4c4f-9a27-4132f307f638",
   "metadata": {},
   "source": [
    "## Linear Regression\n",
    "\n",
    "Linear regression is one of the simplest machine learning algorithms we will study in this course. However, we will learn how to make it a powerful predictor that can be applied to a wide range of problems.\n",
    "\n",
    "Many machine learning textbooks and courses begin with linear regression, and there are a few reasons for this. First, though it is a simple algorithm, linear regression contains many of the same components as more complicated types of machine learning. These components, such as trained parameters, an optimization procedure, and a functional form for the output, will be discussed in the context of linear regression this week but will be applied to many of the machine learning algorithms we will study this semester, including neural networks. The second reason machine learning is important is that it has a closed-form solution for its optimized parameters, meaning that we can derive and write a single equation that explains how a linear regression algorithm is trained. We will derive this equation later in these notes. This closed-form solution means that given the same training and prediction data, a linear regression algorithm will always produce the same results.  This is in contrast to other types of machine learning, such as neural networks, where the same training process will always result in different predictions (we will discuss why later this semester). The final reason we will be studying linear regression as our first machine learning algorithm is that, while it is common in machine learning, it is also widely used in many fields of science, statistics, and business, so it maybe familar to you from other courses.\n"
   ]
  },
  {
   "cell_type": "markdown",
   "id": "8c8a5cac-1149-48e9-8250-a31c16a3db4c",
   "metadata": {},
   "source": [
    "### Deriving the Equations for Linear Regression\n",
    "\n",
    "Due to the simplicity of linear regression, we are able to take a deep dive into its equations and derive the relevant equations, including the loss function and the equation for the optimized parameters.\n",
    "\n",
    "#### Output\n",
    "Given a data set (**X**, $\\vec{y}$), we want to create a linear regression algorithm which will take the input data, **X**, and produce a prediction of the outputs that is as close to $\\vec{y}$ as we can get. Producing the output for a linear regression algorithm is deceptively simple:\n",
    "\n",
    "$$\\hat{y} = \\textbf{X}\\theta,$$\n",
    "\n",
    "where **X** is the inputs or x-data for the data set we wish to model (and is either a vector or a matrix depending on if it is one dimensional or two dimensional), $\\hat{y}$ are the linear regression predictions of the y-data or the outputs of the data set (and is a vector), and $\\theta$ are known as the parameters or weights of the linear regression algorithm and are a vector if **X** is two dimensional and are a scalar if **X** are one dimensional. The value of $\\theta$ are what we are trying to \"learn\" when we use linear regression because we are trying to find values for the parameters such that $\\vec{y} \\approx \\hat{y}$.\n",
    "\n",
    "Note that $\\hat{y}$ is a very common way to represent the outputs from any machine learning algorithm, but some resources may use $y_{pred}$ instead.\n",
    "\n",
    "#### Loss Function\n",
    "\n",
    "A loss function, in general, is a quantitative measure of how close our machine learning predictions are to the true data.  There are many different loss functions used in the field of machine learning, but for linear regression we will be using the mean-squared error function (MSE).  For to vectors of the same length N, $\\vec{a}$ and $\\vec{b}$, we can define the MSE between them as:\n",
    "\n",
    "$$MSE = \\frac{1}{N}\\sum_{i=1}^N(\\vec{a}_i - \\vec{b}_i)^2.$$\n",
    "\n",
    "A smaller MSE means that the two vectors are closer to each other and a MSE of zero means that the two vectors are identical.  Therefore, for linear regression, we want the value of our loss function to be as close to zero as possible to ensure that our linear regression algorithm is accurately predicting the values of our data set.\n",
    "\n",
    "Now, we can define the loss function for linear regression as:\n",
    "\n",
    "$$J(\\theta) = \\frac{1}{N}\\sum_{i=1}^N(\\hat{y}_i - \\vec{y}_i)^2.$$\n",
    "\n",
    "Since each of the quantities in the above equation are vectors, we can remove the summation notation and instead write the loss function in terms of vectors:\n",
    "\n",
    "$$J(\\theta) = \\frac{1}{N}[\\hat{y} - \\vec{y}]^T[\\hat{y} - \\vec{y}].$$\n",
    "\n",
    "Finally, since $\\hat{y} = \\textbf{X}\\theta$, we can rewrite the loss function in its final form as:\n",
    "\n",
    "$$J(\\theta) = \\frac{1}{N}[\\textbf{X}\\theta - \\vec{y}]^T[\\textbf{X}\\theta - \\vec{y}].$$\n",
    "\n",
    "#### Optimization \n",
    "\n",
    "We want to our linear regression algorithm to make accurate predictions, so therefore we need to find values of $\\theta$ which minimize the loss function (because a smaller MSE means the data sets closely match).  If we consider the simplest minimization possible, the loss function is minimized where its first derivative is zero.  Therefore,\n",
    "\n",
    "$$\\frac{\\partial J(\\theta)}{\\partial \\theta} = 0.$$\n",
    "\n",
    "We can plug in the loss function to get:\n",
    "\n",
    "$$\\frac{\\partial}{\\partial \\theta} \\{\\frac{1}{N}[\\textbf{X}\\theta - \\vec{y}]^T[\\textbf{X}\\theta - \\vec{y}]\\} = 0,$$\n",
    "\n",
    "and take the partial derivative to get:\n",
    "\n",
    "$$X^T[X\\theta - y] = 0.$$\n",
    "\n",
    "Now that we have found the location of the minimum of the loss function, we can solve the above equation for $\\theta$ to yield the value of the parameters that minimizes the loss function.  Therefore, :\n",
    "\n",
    "$$\\theta = (X^TX)^{-1}X^Ty.$$\n",
    "\n",
    "Therefore, given a data set, we can find the optimized values of a linear regression algorithm using the above equation that will allow us to predic the values of new inputs.\n",
    "\n",
    "$$\\hat{y} = \\textbf{X}_{new}\\theta = \\textbf{X}_{new}(X^TX)^{-1}X^Ty$$\n",
    "\n",
    "Note that in this course you will not have to do any derivations like this without guidance, but it is important to know how machine learning algorithms work and that sometimes requires deriving them from equations."
   ]
  },
  {
   "cell_type": "markdown",
   "id": "2e85975f-1c6b-4d45-bafe-8e67fa1c6386",
   "metadata": {},
   "source": [
    "### Linear Regression with Scikit-Learn\n",
    "Scikit-Learn is a common machine learning library with easy implementations which allows us to easily switch the machine learning algorithm we are using. [Scikit-Learn's website](https://scikit-learn.org/stable/) has many useful tutorials and examples on how to use the library.  For this example we only need the linear regression implementation, which we can import using:"
   ]
  },
  {
   "cell_type": "code",
   "execution_count": 1,
   "id": "e812828a-2ac3-4c85-84ec-e8a97105c931",
   "metadata": {},
   "outputs": [],
   "source": [
    "from sklearn.linear_model import LinearRegression"
   ]
  },
  {
   "cell_type": "markdown",
   "id": "3df71f4d-c744-413d-9c7d-75b2b04dffcf",
   "metadata": {},
   "source": [
    "We will also need NumPy and matplotlib, so let's import those as well."
   ]
  },
  {
   "cell_type": "code",
   "execution_count": 3,
   "id": "23ff39a2-ed50-4db8-8614-78e094e50e21",
   "metadata": {},
   "outputs": [],
   "source": [
    "import numpy as np\n",
    "import matplotlib.pyplot as plt"
   ]
  },
  {
   "cell_type": "markdown",
   "id": "5c04b995-a3e6-447e-9b77-6f73a96832ea",
   "metadata": {},
   "source": [
    "Now let's create a linear data set that we can use to explore linear regression."
   ]
  },
  {
   "cell_type": "code",
   "execution_count": 4,
   "id": "5294dcdb-8415-46a2-9747-29b67e314550",
   "metadata": {},
   "outputs": [
    {
     "data": {
      "text/plain": [
       "[<matplotlib.lines.Line2D at 0x1d683901a90>]"
      ]
     },
     "execution_count": 4,
     "metadata": {},
     "output_type": "execute_result"
    },
    {
     "data": {
      "image/png": "[encoded data removed]",
      "text/plain": [
       "<Figure size 640x480 with 1 Axes>"
      ]
     },
     "metadata": {},
     "output_type": "display_data"
    }
   ],
   "source": [
    "X = np.arange(-5,5)\n",
    "y = 4*X-3\n",
    "\n",
    "plt.plot(X,y, color='blue',linewidth=3)"
   ]
  },
  {
   "cell_type": "markdown",
   "id": "8e633079-f9b5-47b0-8ec3-81e3ebcf2470",
   "metadata": {},
   "source": [
    "When using Scikit-Learn machine learning algorithms, they require the input data to have specific dimensionality. Since our input data is one-dimensional, we need to reshape it using the following code before we can use the linear regression implementation."
   ]
  },
  {
   "cell_type": "code",
   "execution_count": 5,
   "id": "4ae14432-2040-4bc8-980d-291cc5117937",
   "metadata": {},
   "outputs": [],
   "source": [
    "# If the x-data in 1D, reshape as follows\n",
    "X = X.reshape(-1,1)"
   ]
  },
  {
   "cell_type": "markdown",
   "id": "fcb18a8e-d15d-493b-a960-2001767e48e0",
   "metadata": {},
   "source": [
    "Now we can define an instance of the linear regression implementation and fit it using the linear data we generated above."
   ]
  },
  {
   "cell_type": "code",
   "execution_count": 6,
   "id": "67140bb1-1df3-4701-b33d-782467bd7bfb",
   "metadata": {},
   "outputs": [
    {
     "data": {
      "text/html": [
       "<style>#sk-container-id-1 {color: black;}#sk-container-id-1 pre{padding: 0;}#sk-container-id-1 div.sk-toggleable {background-color: white;}#sk-container-id-1 label.sk-toggleable__label {cursor: pointer;display: block;width: 100%;margin-bottom: 0;padding: 0.3em;box-sizing: border-box;text-align: center;}#sk-container-id-1 label.sk-toggleable__label-arrow:before {content: \"▸\";float: left;margin-right: 0.25em;color: #696969;}#sk-container-id-1 label.sk-toggleable__label-arrow:hover:before {color: black;}#sk-container-id-1 div.sk-estimator:hover label.sk-toggleable__label-arrow:before {color: black;}#sk-container-id-1 div.sk-toggleable__content {max-height: 0;max-width: 0;overflow: hidden;text-align: left;background-color: #f0f8ff;}#sk-container-id-1 div.sk-toggleable__content pre {margin: 0.2em;color: black;border-radius: 0.25em;background-color: #f0f8ff;}#sk-container-id-1 input.sk-toggleable__control:checked~div.sk-toggleable__content {max-height: 200px;max-width: 100%;overflow: auto;}#sk-container-id-1 input.sk-toggleable__control:checked~label.sk-toggleable__label-arrow:before {content: \"▾\";}#sk-container-id-1 div.sk-estimator input.sk-toggleable__control:checked~label.sk-toggleable__label {background-color: #d4ebff;}#sk-container-id-1 div.sk-label input.sk-toggleable__control:checked~label.sk-toggleable__label {background-color: #d4ebff;}#sk-container-id-1 input.sk-hidden--visually {border: 0;clip: rect(1px 1px 1px 1px);clip: rect(1px, 1px, 1px, 1px);height: 1px;margin: -1px;overflow: hidden;padding: 0;position: absolute;width: 1px;}#sk-container-id-1 div.sk-estimator {font-family: monospace;background-color: #f0f8ff;border: 1px dotted black;border-radius: 0.25em;box-sizing: border-box;margin-bottom: 0.5em;}#sk-container-id-1 div.sk-estimator:hover {background-color: #d4ebff;}#sk-container-id-1 div.sk-parallel-item::after {content: \"\";width: 100%;border-bottom: 1px solid gray;flex-grow: 1;}#sk-container-id-1 div.sk-label:hover label.sk-toggleable__label {background-color: #d4ebff;}#sk-container-id-1 div.sk-serial::before {content: \"\";position: absolute;border-left: 1px solid gray;box-sizing: border-box;top: 0;bottom: 0;left: 50%;z-index: 0;}#sk-container-id-1 div.sk-serial {display: flex;flex-direction: column;align-items: center;background-color: white;padding-right: 0.2em;padding-left: 0.2em;position: relative;}#sk-container-id-1 div.sk-item {position: relative;z-index: 1;}#sk-container-id-1 div.sk-parallel {display: flex;align-items: stretch;justify-content: center;background-color: white;position: relative;}#sk-container-id-1 div.sk-item::before, #sk-container-id-1 div.sk-parallel-item::before {content: \"\";position: absolute;border-left: 1px solid gray;box-sizing: border-box;top: 0;bottom: 0;left: 50%;z-index: -1;}#sk-container-id-1 div.sk-parallel-item {display: flex;flex-direction: column;z-index: 1;position: relative;background-color: white;}#sk-container-id-1 div.sk-parallel-item:first-child::after {align-self: flex-end;width: 50%;}#sk-container-id-1 div.sk-parallel-item:last-child::after {align-self: flex-start;width: 50%;}#sk-container-id-1 div.sk-parallel-item:only-child::after {width: 0;}#sk-container-id-1 div.sk-dashed-wrapped {border: 1px dashed gray;margin: 0 0.4em 0.5em 0.4em;box-sizing: border-box;padding-bottom: 0.4em;background-color: white;}#sk-container-id-1 div.sk-label label {font-family: monospace;font-weight: bold;display: inline-block;line-height: 1.2em;}#sk-container-id-1 div.sk-label-container {text-align: center;}#sk-container-id-1 div.sk-container {/* jupyter's `normalize.less` sets `[hidden] { display: none; }` but bootstrap.min.css set `[hidden] { display: none !important; }` so we also need the `!important` here to be able to override the default hidden behavior on the sphinx rendered scikit-learn.org. See: https://github.com/scikit-learn/scikit-learn/issues/21755 */display: inline-block !important;position: relative;}#sk-container-id-1 div.sk-text-repr-fallback {display: none;}</style><div id=\"sk-container-id-1\" class=\"sk-top-container\"><div class=\"sk-text-repr-fallback\"><pre>LinearRegression()</pre><b>In a Jupyter environment, please rerun this cell to show the HTML representation or trust the notebook. <br />On GitHub, the HTML representation is unable to render, please try loading this page with nbviewer.org.</b></div><div class=\"sk-container\" hidden><div class=\"sk-item\"><div class=\"sk-estimator sk-toggleable\"><input class=\"sk-toggleable__control sk-hidden--visually\" id=\"sk-estimator-id-1\" type=\"checkbox\" checked><label for=\"sk-estimator-id-1\" class=\"sk-toggleable__label sk-toggleable__label-arrow\">LinearRegression</label><div class=\"sk-toggleable__content\"><pre>LinearRegression()</pre></div></div></div></div></div>"
      ],
      "text/plain": [
       "LinearRegression()"
      ]
     },
     "execution_count": 6,
     "metadata": {},
     "output_type": "execute_result"
    }
   ],
   "source": [
    "# Create a linear regression instance using sklearn\n",
    "linear_regression = LinearRegression()\n",
    "\n",
    "# Fit the linear regression algoritm using the previously generated data\n",
    "linear_regression.fit(X,y)"
   ]
  },
  {
   "cell_type": "markdown",
   "id": "84b5943b-3d3d-4a10-b2f8-a2be3a57c8ca",
   "metadata": {},
   "source": [
    "The above code \"trains\" the linear regression algorithm using the data we gave it to find the optimized values of the parameters, $\\theta$. We can now used the trained linear regression instance to predict new points on the same line."
   ]
  },
  {
   "cell_type": "code",
   "execution_count": 7,
   "id": "e3ce7cad-c707-4ae7-8ba8-ca38101de616",
   "metadata": {},
   "outputs": [],
   "source": [
    "# Create new data from the same line in order to test its performance\n",
    "X_test = np.arange(-10,10,0.1)\n",
    "y_test = 4*X_test-3\n",
    "\n",
    "X_test = X_test.reshape(-1,1)\n",
    "\n",
    "y_pred = linear_regression.predict(X_test)"
   ]
  },
  {
   "cell_type": "markdown",
   "id": "d18a25b3-a4ce-4d19-8de0-473d117a0cfc",
   "metadata": {},
   "source": [
    "Now that we have our predicted data set, we can analyze its accuracy.  We will typically do this two ways: analyzing the data graphically compared to the expected results, and quantifying the error in the data compared to the expected values using error metrics. First, let's graphically analyze the predictions by plotting the predicted data and the expected values on the same plot.  Remember to add a key to determine which plot corresponds to which data set."
   ]
  },
  {
   "cell_type": "code",
   "execution_count": 8,
   "id": "94409f0e-1ba8-4837-8d19-beca4a7fbece",
   "metadata": {},
   "outputs": [
    {
     "data": {
      "text/plain": [
       "<matplotlib.legend.Legend at 0x1d685bfcc50>"
      ]
     },
     "execution_count": 8,
     "metadata": {},
     "output_type": "execute_result"
    },
    {
     "data": {
      "image/png": "[encoded data removed]",
      "text/plain": [
       "<Figure size 640x480 with 1 Axes>"
      ]
     },
     "metadata": {},
     "output_type": "display_data"
    }
   ],
   "source": [
    "# Graphically check to see if the true and predicted data are similar\n",
    "plt.plot(X_test,y_test,color='blue',linewidth=3,label=\"True\")\n",
    "plt.plot(X_test, y_pred, color='red', linewidth=3,linestyle=':', label=\"Predicted\")\n",
    "plt.legend()"
   ]
  },
  {
   "cell_type": "markdown",
   "id": "2ebf752f-7137-4541-86b7-2898b573c9bf",
   "metadata": {},
   "source": [
    "The two plots look very similar but a graphical match is rarely enough evidence to convince other people that your machine learning algorithm can make accurate predictions. You also need to include the results from error metrics which can quantify how diffferent your predictions are from the expected data.  A very common error metric is the MSE, which we defined when talking about the loss function. It is very common to report the MSE between the machine learning predictions and the expected results.  We can do this easily using Scikit-Learn."
   ]
  },
  {
   "cell_type": "code",
   "execution_count": 9,
   "id": "b7de3b41-7106-445e-99c4-1a149b80ec82",
   "metadata": {},
   "outputs": [
    {
     "name": "stdout",
     "output_type": "stream",
     "text": [
      "MEAN SQUARED ERROR: 2.4568333336009768e-29\n"
     ]
    }
   ],
   "source": [
    "from sklearn.metrics import mean_squared_error\n",
    "\n",
    "print(\"MEAN SQUARED ERROR:\", mean_squared_error(y_test, y_pred))"
   ]
  },
  {
   "cell_type": "markdown",
   "id": "bb4b74d5-5efa-4fb8-a9a4-14e695a61747",
   "metadata": {},
   "source": [
    "To interpret this result, this means that each data point differs from the true result by the square root of the MSE on average.  This may be hard to think about, so therefore we can define the root mean-squared error (RMSE) as the square root of the MSE score."
   ]
  },
  {
   "cell_type": "code",
   "execution_count": 10,
   "id": "f3584a72-50ba-423c-8822-6dc5339f9ad2",
   "metadata": {},
   "outputs": [
    {
     "name": "stdout",
     "output_type": "stream",
     "text": [
      "ROOT MEAN SQUARED ERROR: 4.956645371217288e-15\n"
     ]
    }
   ],
   "source": [
    "print(\"ROOT MEAN SQUARED ERROR:\", np.sqrt(mean_squared_error(y_test, y_pred)))"
   ]
  },
  {
   "cell_type": "markdown",
   "id": "a681d430-2f5d-4907-82bc-578e6f6176de",
   "metadata": {},
   "source": [
    "We can interpret a RMSE as the average error on each prediction, so this is a bit easier to see that our linear regression predictions are very close to the true or expected results.  There are a couple of other error metrics we can look at as well.  First is the R2-score, which is a measure of how linear a data set is. A perfect line as a score of 1, the further from 1 the less linear the data set is. If a data set is plotted against itself it will make a perfect line, and thus will have an r2-score of 1.  Therefore, we can calculate the R2-score between our predicted and expected data sets and see how close the results is to 1.  The closer to 1 the closer the two data sets are to being identical."
   ]
  },
  {
   "cell_type": "code",
   "execution_count": 15,
   "id": "29d2c5c0-808d-40b9-be4f-bf2822d99b71",
   "metadata": {},
   "outputs": [
    {
     "name": "stdout",
     "output_type": "stream",
     "text": [
      "R2-SCORE: 1.0\n"
     ]
    }
   ],
   "source": [
    "from sklearn.metrics import r2_score\n",
    "\n",
    "print(\"R2-SCORE:\", r2_score(y_test, y_pred))"
   ]
  },
  {
   "cell_type": "markdown",
   "id": "4a64316b-201b-4db6-a77f-760e31e119f4",
   "metadata": {},
   "source": [
    "As expected, the r2-score indicates that these data sets are identical, so our machine learning algorithm is doing a good job of matching the data set.  As a final error metric we can look at the mean absolute percentage error, which tells, as a percentage, how much the data sets differ.  Here 0% means the data sets are identical and larger numbers mean there are differences in the data sets."
   ]
  },
  {
   "cell_type": "code",
   "execution_count": 16,
   "id": "9f2d04ef-7c1e-47e0-92f7-d7d152bb8532",
   "metadata": {},
   "outputs": [
    {
     "name": "stdout",
     "output_type": "stream",
     "text": [
      "MEAN ABSOLUTE PERCENTAGE ERROR: 3.0171471985005047e-16 %\n"
     ]
    }
   ],
   "source": [
    "from sklearn.metrics import mean_absolute_percentage_error\n",
    "\n",
    "print(\"MEAN ABSOLUTE PERCENTAGE ERROR:\", mean_absolute_percentage_error(y_test, y_pred), \"%\")"
   ]
  },
  {
   "cell_type": "markdown",
   "id": "3e02ff2f-e637-40af-be46-203c9d0346ae",
   "metadata": {},
   "source": [
    "Finally, if we have a model we know to be true (in this case the equation of the line, y = 4x-3), we can extract the trained parameters from the linear regression model and see if they are correct.  In this case, the one trained weight should be the slope of the line (in this case 4). The Scikit-Learn linear regression algorithm also fits the y-intercept of the data by default so we can also extract that and see if it is correct (in this case it should be -3)."
   ]
  },
  {
   "cell_type": "code",
   "execution_count": 17,
   "id": "02fc1b1b-5081-4069-80f2-e530b8d710af",
   "metadata": {},
   "outputs": [
    {
     "name": "stdout",
     "output_type": "stream",
     "text": [
      "LINEAR REGRESSION SLOPE: [4.]\n",
      "LINEAR REGRESSION INTERCEPT: -2.9999999999999996\n"
     ]
    }
   ],
   "source": [
    "# Check the optimized weights and the slope that are fit by the linear regression algorithm\n",
    "# The slope should be 4 and the intercept -3 (set when we created the data)\n",
    "print(\"LINEAR REGRESSION SLOPE:\", linear_regression.coef_)\n",
    "print(\"LINEAR REGRESSION INTERCEPT:\", linear_regression.intercept_)"
   ]
  },
  {
   "cell_type": "markdown",
   "id": "c37ab089-b0f2-4b1d-b242-74c57eb6f33a",
   "metadata": {},
   "source": [
    "### Using a Design Matrix to Extend the Applications of Linear Regression"
   ]
  }
 ],
 "metadata": {
  "kernelspec": {
   "display_name": "Python 3 (ipykernel)",
   "language": "python",
   "name": "python3"
  },
  "language_info": {
   "codemirror_mode": {
    "name": "ipython",
    "version": 3
   },
   "file_extension": ".py",
   "mimetype": "text/x-python",
   "name": "python",
   "nbconvert_exporter": "python",
   "pygments_lexer": "ipython3",
   "version": "3.11.4"
  }
 },
 "nbformat": 4,
 "nbformat_minor": 5
}
