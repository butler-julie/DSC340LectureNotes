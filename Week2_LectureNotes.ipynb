{
 "cells": [
  {
   "cell_type": "markdown",
   "id": "fb5eb4c7-f7d8-4213-a29f-682e1cbbfb38",
   "metadata": {},
   "source": [
    "# Linear Regression and the Machine Learning Workflow\n",
    "\n",
    "## DSC 340 Week 2 Lecture Notes\n",
    "\n",
    "Dr. [Julie Butler](juliebutler.org)\n",
    "\n",
    "Week of August 28 - September 1, 2023"
   ]
  },
  {
   "cell_type": "markdown",
   "id": "c58c13a4-b3f6-4c4f-9a27-4132f307f638",
   "metadata": {},
   "source": [
    "## Linear Regression\n",
    "\n"
   ]
  }
 ],
 "metadata": {
  "kernelspec": {
   "display_name": "Python 3 (ipykernel)",
   "language": "python",
   "name": "python3"
  },
  "language_info": {
   "codemirror_mode": {
    "name": "ipython",
    "version": 3
   },
   "file_extension": ".py",
   "mimetype": "text/x-python",
   "name": "python",
   "nbconvert_exporter": "python",
   "pygments_lexer": "ipython3",
   "version": "3.11.4"
  }
 },
 "nbformat": 4,
 "nbformat_minor": 5
}
