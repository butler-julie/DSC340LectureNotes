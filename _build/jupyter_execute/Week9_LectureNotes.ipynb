{
 "cells": [
  {
   "cell_type": "markdown",
   "id": "36017047-7311-4a2d-93a6-1041ef02b444",
   "metadata": {},
   "source": [
    "# Creating Neural Networks from Scratch"
   ]
  }
 ],
 "metadata": {
  "kernelspec": {
   "display_name": "Python 3 (ipykernel)",
   "language": "python",
   "name": "python3"
  },
  "language_info": {
   "codemirror_mode": {
    "name": "ipython",
    "version": 3
   },
   "file_extension": ".py",
   "mimetype": "text/x-python",
   "name": "python",
   "nbconvert_exporter": "python",
   "pygments_lexer": "ipython3",
   "version": "3.9.6"
  }
 },
 "nbformat": 4,
 "nbformat_minor": 5
}