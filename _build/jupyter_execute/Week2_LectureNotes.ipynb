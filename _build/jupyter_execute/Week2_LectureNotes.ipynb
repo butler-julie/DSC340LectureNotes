{
 "cells": [
  {
   "cell_type": "markdown",
   "id": "fb5eb4c7-f7d8-4213-a29f-682e1cbbfb38",
   "metadata": {},
   "source": [
    "# Linear Regression and the Machine Learning Workflow\n",
    "\n",
    "## CSC/DSC 340 Week 2 Lecture Notes\n",
    "\n",
    "Dr. [Julie Butler](juliebutler.org)\n",
    "\n",
    "Week of August 28 - September 1, 2023"
   ]
  },
  {
   "cell_type": "markdown",
   "id": "c58c13a4-b3f6-4c4f-9a27-4132f307f638",
   "metadata": {},
   "source": [
    "## Linear Regression\n",
    "\n",
    "Linear regression is one of the simplest machine learning algorithms we will study in this course. However, we will learn how to make it a powerful predictor that can be applied to a wide range of problems.\n",
    "\n",
    "Many machine learning textbooks and courses begin with linear regression, and there are a few reasons for this. First, though it is a simple algorithm, linear regression contains many of the same components as more complicated types of machine learning. These components, such as trained parameters, an optimization procedure, and a functional form for the output, will be discussed in the context of linear regression this week but will be applied to many of the machine learning algorithms we will study this semester, including neural networks. The second reason machine learning is important is that it has a closed-form solution for its optimized parameters, meaning that we can derive and write a single equation that explains how a linear regression algorithm is trained. We will derive this equation later in these notes. This closed-form solution means that given the same training and prediction data, a linear regression algorithm will always produce the same results.  This is in contrast to other types of machine learning, such as neural networks, where the same training process will always result in different predictions (we will discuss why later this semester). The final reason we will be studying linear regression as our first machine learning algorithm is that, while it is common in machine learning, it is also widely used in many fields of science, statistics, and business, so it maybe familar to you from other courses.\n"
   ]
  },
  {
   "cell_type": "markdown",
   "id": "8c8a5cac-1149-48e9-8250-a31c16a3db4c",
   "metadata": {},
   "source": [
    "### Deriving the Equations for Linear Regression\n",
    "\n",
    "Due to the simplicity of linear regression, we are able to take a deep dive into its equations and derive the relevant equations, including the loss function and the equation for the optimized parameters.\n",
    "\n",
    "#### Output\n",
    "Given a data set (**X**, $\\vec{y}$), we want to create a linear regression algorithm which will take the input data, **X**, and produce a prediction of the outputs that is as close to $\\vec{y}$ as we can get. Producing the output for a linear regression algorithm is deceptively simple:\n",
    "\n",
    "$$\\hat{y} = \\textbf{X}\\theta,$$\n",
    "\n",
    "where **X** is the inputs or x-data for the data set we wish to model (and is either a vector or a matrix depending on if it is one dimensional or two dimensional), $\\hat{y}$ are the linear regression predictions of the y-data or the outputs of the data set (and is a vector), and $\\theta$ are known as the parameters or weights of the linear regression algorithm and are a vector if **X** is two dimensional and are a scalar if **X** are one dimensional. The value of $\\theta$ are what we are trying to \"learn\" when we use linear regression because we are trying to find values for the parameters such that $\\vec{y} \\approx \\hat{y}$.\n",
    "\n",
    "Note that $\\hat{y}$ is a very common way to represent the outputs from any machine learning algorithm, but some resources may use $y_{pred}$ instead.\n",
    "\n",
    "#### Loss Function\n",
    "\n",
    "A loss function, in general, is a quantitative measure of how close our machine learning predictions are to the true data.  There are many different loss functions used in the field of machine learning, but for linear regression we will be using the mean-squared error function (MSE).  For to vectors of the same length N, $\\vec{a}$ and $\\vec{b}$, we can define the MSE between them as:\n",
    "\n",
    "$$MSE = \\frac{1}{N}\\sum_{i=1}^N(\\vec{a}_i - \\vec{b}_i)^2.$$\n",
    "\n",
    "A smaller MSE means that the two vectors are closer to each other and a MSE of zero means that the two vectors are identical.  Therefore, for linear regression, we want the value of our loss function to be as close to zero as possible to ensure that our linear regression algorithm is accurately predicting the values of our data set.\n",
    "\n",
    "Now, we can define the loss function for linear regression as:\n",
    "\n",
    "$$J(\\theta) = \\frac{1}{N}\\sum_{i=1}^N(\\hat{y}_i - \\vec{y}_i)^2.$$\n",
    "\n",
    "Since each of the quantities in the above equation are vectors, we can remove the summation notation and instead write the loss function in terms of vectors:\n",
    "\n",
    "$$J(\\theta) = \\frac{1}{N}[\\hat{y} - \\vec{y}]^T[\\hat{y} - \\vec{y}].$$\n",
    "\n",
    "Finally, since $\\hat{y} = \\textbf{X}\\theta$, we can rewrite the loss function in its final form as:\n",
    "\n",
    "$$J(\\theta) = \\frac{1}{N}[\\textbf{X}\\theta - \\vec{y}]^T[\\textbf{X}\\theta - \\vec{y}].$$\n",
    "\n",
    "#### Optimization \n",
    "\n",
    "We want to our linear regression algorithm to make accurate predictions, so therefore we need to find values of $\\theta$ which minimize the loss function (because a smaller MSE means the data sets closely match).  If we consider the simplest minimization possible, the loss function is minimized where its first derivative is zero.  Therefore,\n",
    "\n",
    "$$\\frac{\\partial J(\\theta)}{\\partial \\theta} = 0.$$\n",
    "\n",
    "We can plug in the loss function to get:\n",
    "\n",
    "$$\\frac{\\partial}{\\partial \\theta} \\{\\frac{1}{N}[\\textbf{X}\\theta - \\vec{y}]^T[\\textbf{X}\\theta - \\vec{y}]\\} = 0,$$\n",
    "\n",
    "and take the partial derivative to get:\n",
    "\n",
    "$$X^T[X\\theta - y] = 0.$$\n",
    "\n",
    "Now that we have found the location of the minimum of the loss function, we can solve the above equation for $\\theta$ to yield the value of the parameters that minimizes the loss function.  Therefore, :\n",
    "\n",
    "$$\\theta = (X^TX)^{-1}X^Ty.$$\n",
    "\n",
    "Therefore, given a data set, we can find the optimized values of a linear regression algorithm using the above equation that will allow us to predic the values of new inputs.\n",
    "\n",
    "$$\\hat{y} = \\textbf{X}_{new}\\theta = \\textbf{X}_{new}(X^TX)^{-1}X^Ty$$\n",
    "\n",
    "Note that in this course you will not have to do any derivations like this without guidance, but it is important to know how machine learning algorithms work and that sometimes requires deriving them from equations."
   ]
  },
  {
   "cell_type": "markdown",
   "id": "2e85975f-1c6b-4d45-bafe-8e67fa1c6386",
   "metadata": {},
   "source": [
    "### Linear Regression with Scikit-Learn\n",
    "Scikit-Learn is a common machine learning library with easy implementations which allows us to easily switch the machine learning algorithm we are using. [Scikit-Learn's website](https://scikit-learn.org/stable/) has many useful tutorials and examples on how to use the library.  For this example we only need the linear regression implementation, which we can import using:"
   ]
  },
  {
   "cell_type": "code",
   "execution_count": 1,
   "id": "e812828a-2ac3-4c85-84ec-e8a97105c931",
   "metadata": {},
   "outputs": [],
   "source": [
    "from sklearn.linear_model import LinearRegression"
   ]
  },
  {
   "cell_type": "markdown",
   "id": "3df71f4d-c744-413d-9c7d-75b2b04dffcf",
   "metadata": {},
   "source": [
    "We will also need NumPy and matplotlib, so let's import those as well."
   ]
  },
  {
   "cell_type": "code",
   "execution_count": 2,
   "id": "23ff39a2-ed50-4db8-8614-78e094e50e21",
   "metadata": {},
   "outputs": [],
   "source": [
    "import numpy as np\n",
    "import matplotlib.pyplot as plt"
   ]
  },
  {
   "cell_type": "markdown",
   "id": "5c04b995-a3e6-447e-9b77-6f73a96832ea",
   "metadata": {},
   "source": [
    "Now let's create a linear data set that we can use to explore linear regression."
   ]
  },
  {
   "cell_type": "code",
   "execution_count": 3,
   "id": "5294dcdb-8415-46a2-9747-29b67e314550",
   "metadata": {},
   "outputs": [
    {
     "data": {
      "text/plain": [
       "[<matplotlib.lines.Line2D at 0x13a19a250>]"
      ]
     },
     "execution_count": 3,
     "metadata": {},
     "output_type": "execute_result"
    },
    {
     "data": {
      "image/png": "[encoded data removed]",
      "text/plain": [
       "<Figure size 640x480 with 1 Axes>"
      ]
     },
     "metadata": {},
     "output_type": "display_data"
    }
   ],
   "source": [
    "X = np.arange(-5,5)\n",
    "y = 4*X-3\n",
    "\n",
    "plt.plot(X,y, color='blue',linewidth=3)"
   ]
  },
  {
   "cell_type": "markdown",
   "id": "8e633079-f9b5-47b0-8ec3-81e3ebcf2470",
   "metadata": {},
   "source": [
    "When using Scikit-Learn machine learning algorithms, they require the input data to have specific dimensionality. Since our input data is one-dimensional, we need to reshape it using the following code before we can use the linear regression implementation."
   ]
  },
  {
   "cell_type": "code",
   "execution_count": 4,
   "id": "4ae14432-2040-4bc8-980d-291cc5117937",
   "metadata": {},
   "outputs": [],
   "source": [
    "# If the x-data in 1D, reshape as follows\n",
    "X = X.reshape(-1,1)"
   ]
  },
  {
   "cell_type": "markdown",
   "id": "fcb18a8e-d15d-493b-a960-2001767e48e0",
   "metadata": {},
   "source": [
    "Now we can define an instance of the linear regression implementation and fit it using the linear data we generated above."
   ]
  },
  {
   "cell_type": "code",
   "execution_count": 5,
   "id": "67140bb1-1df3-4701-b33d-782467bd7bfb",
   "metadata": {},
   "outputs": [
    {
     "data": {
      "text/html": [
       "<style>#sk-container-id-1 {color: black;}#sk-container-id-1 pre{padding: 0;}#sk-container-id-1 div.sk-toggleable {background-color: white;}#sk-container-id-1 label.sk-toggleable__label {cursor: pointer;display: block;width: 100%;margin-bottom: 0;padding: 0.3em;box-sizing: border-box;text-align: center;}#sk-container-id-1 label.sk-toggleable__label-arrow:before {content: \"▸\";float: left;margin-right: 0.25em;color: #696969;}#sk-container-id-1 label.sk-toggleable__label-arrow:hover:before {color: black;}#sk-container-id-1 div.sk-estimator:hover label.sk-toggleable__label-arrow:before {color: black;}#sk-container-id-1 div.sk-toggleable__content {max-height: 0;max-width: 0;overflow: hidden;text-align: left;background-color: #f0f8ff;}#sk-container-id-1 div.sk-toggleable__content pre {margin: 0.2em;color: black;border-radius: 0.25em;background-color: #f0f8ff;}#sk-container-id-1 input.sk-toggleable__control:checked~div.sk-toggleable__content {max-height: 200px;max-width: 100%;overflow: auto;}#sk-container-id-1 input.sk-toggleable__control:checked~label.sk-toggleable__label-arrow:before {content: \"▾\";}#sk-container-id-1 div.sk-estimator input.sk-toggleable__control:checked~label.sk-toggleable__label {background-color: #d4ebff;}#sk-container-id-1 div.sk-label input.sk-toggleable__control:checked~label.sk-toggleable__label {background-color: #d4ebff;}#sk-container-id-1 input.sk-hidden--visually {border: 0;clip: rect(1px 1px 1px 1px);clip: rect(1px, 1px, 1px, 1px);height: 1px;margin: -1px;overflow: hidden;padding: 0;position: absolute;width: 1px;}#sk-container-id-1 div.sk-estimator {font-family: monospace;background-color: #f0f8ff;border: 1px dotted black;border-radius: 0.25em;box-sizing: border-box;margin-bottom: 0.5em;}#sk-container-id-1 div.sk-estimator:hover {background-color: #d4ebff;}#sk-container-id-1 div.sk-parallel-item::after {content: \"\";width: 100%;border-bottom: 1px solid gray;flex-grow: 1;}#sk-container-id-1 div.sk-label:hover label.sk-toggleable__label {background-color: #d4ebff;}#sk-container-id-1 div.sk-serial::before {content: \"\";position: absolute;border-left: 1px solid gray;box-sizing: border-box;top: 0;bottom: 0;left: 50%;z-index: 0;}#sk-container-id-1 div.sk-serial {display: flex;flex-direction: column;align-items: center;background-color: white;padding-right: 0.2em;padding-left: 0.2em;position: relative;}#sk-container-id-1 div.sk-item {position: relative;z-index: 1;}#sk-container-id-1 div.sk-parallel {display: flex;align-items: stretch;justify-content: center;background-color: white;position: relative;}#sk-container-id-1 div.sk-item::before, #sk-container-id-1 div.sk-parallel-item::before {content: \"\";position: absolute;border-left: 1px solid gray;box-sizing: border-box;top: 0;bottom: 0;left: 50%;z-index: -1;}#sk-container-id-1 div.sk-parallel-item {display: flex;flex-direction: column;z-index: 1;position: relative;background-color: white;}#sk-container-id-1 div.sk-parallel-item:first-child::after {align-self: flex-end;width: 50%;}#sk-container-id-1 div.sk-parallel-item:last-child::after {align-self: flex-start;width: 50%;}#sk-container-id-1 div.sk-parallel-item:only-child::after {width: 0;}#sk-container-id-1 div.sk-dashed-wrapped {border: 1px dashed gray;margin: 0 0.4em 0.5em 0.4em;box-sizing: border-box;padding-bottom: 0.4em;background-color: white;}#sk-container-id-1 div.sk-label label {font-family: monospace;font-weight: bold;display: inline-block;line-height: 1.2em;}#sk-container-id-1 div.sk-label-container {text-align: center;}#sk-container-id-1 div.sk-container {/* jupyter's `normalize.less` sets `[hidden] { display: none; }` but bootstrap.min.css set `[hidden] { display: none !important; }` so we also need the `!important` here to be able to override the default hidden behavior on the sphinx rendered scikit-learn.org. See: https://github.com/scikit-learn/scikit-learn/issues/21755 */display: inline-block !important;position: relative;}#sk-container-id-1 div.sk-text-repr-fallback {display: none;}</style><div id=\"sk-container-id-1\" class=\"sk-top-container\"><div class=\"sk-text-repr-fallback\"><pre>LinearRegression()</pre><b>In a Jupyter environment, please rerun this cell to show the HTML representation or trust the notebook. <br />On GitHub, the HTML representation is unable to render, please try loading this page with nbviewer.org.</b></div><div class=\"sk-container\" hidden><div class=\"sk-item\"><div class=\"sk-estimator sk-toggleable\"><input class=\"sk-toggleable__control sk-hidden--visually\" id=\"sk-estimator-id-1\" type=\"checkbox\" checked><label for=\"sk-estimator-id-1\" class=\"sk-toggleable__label sk-toggleable__label-arrow\">LinearRegression</label><div class=\"sk-toggleable__content\"><pre>LinearRegression()</pre></div></div></div></div></div>"
      ],
      "text/plain": [
       "LinearRegression()"
      ]
     },
     "execution_count": 5,
     "metadata": {},
     "output_type": "execute_result"
    }
   ],
   "source": [
    "# Create a linear regression instance using sklearn\n",
    "linear_regression = LinearRegression()\n",
    "\n",
    "# Fit the linear regression algoritm using the previously generated data\n",
    "linear_regression.fit(X,y)"
   ]
  },
  {
   "cell_type": "markdown",
   "id": "84b5943b-3d3d-4a10-b2f8-a2be3a57c8ca",
   "metadata": {},
   "source": [
    "The above code \"trains\" the linear regression algorithm using the data we gave it to find the optimized values of the parameters, $\\theta$. We can now used the trained linear regression instance to predict new points on the same line."
   ]
  },
  {
   "cell_type": "code",
   "execution_count": 6,
   "id": "e3ce7cad-c707-4ae7-8ba8-ca38101de616",
   "metadata": {},
   "outputs": [],
   "source": [
    "# Create new data from the same line in order to test its performance\n",
    "X_test = np.arange(-10,10,0.1)\n",
    "y_test = 4*X_test-3\n",
    "\n",
    "X_test = X_test.reshape(-1,1)\n",
    "\n",
    "y_pred = linear_regression.predict(X_test)"
   ]
  },
  {
   "cell_type": "markdown",
   "id": "d18a25b3-a4ce-4d19-8de0-473d117a0cfc",
   "metadata": {},
   "source": [
    "Now that we have our predicted data set, we can analyze its accuracy.  We will typically do this two ways: analyzing the data graphically compared to the expected results, and quantifying the error in the data compared to the expected values using error metrics. First, let's graphically analyze the predictions by plotting the predicted data and the expected values on the same plot.  Remember to add a key to determine which plot corresponds to which data set."
   ]
  },
  {
   "cell_type": "code",
   "execution_count": 7,
   "id": "94409f0e-1ba8-4837-8d19-beca4a7fbece",
   "metadata": {},
   "outputs": [
    {
     "data": {
      "text/plain": [
       "<matplotlib.legend.Legend at 0x13a27d430>"
      ]
     },
     "execution_count": 7,
     "metadata": {},
     "output_type": "execute_result"
    },
    {
     "data": {
      "image/png": "[encoded data removed]",
      "text/plain": [
       "<Figure size 640x480 with 1 Axes>"
      ]
     },
     "metadata": {},
     "output_type": "display_data"
    }
   ],
   "source": [
    "# Graphically check to see if the true and predicted data are similar\n",
    "plt.plot(X_test,y_test,color='blue',linewidth=3,label=\"True\")\n",
    "plt.plot(X_test, y_pred, color='red', linewidth=3,linestyle=':', label=\"Predicted\")\n",
    "plt.legend()"
   ]
  },
  {
   "cell_type": "markdown",
   "id": "2ebf752f-7137-4541-86b7-2898b573c9bf",
   "metadata": {},
   "source": [
    "The two plots look very similar but a graphical match is rarely enough evidence to convince other people that your machine learning algorithm can make accurate predictions. You also need to include the results from error metrics which can quantify how diffferent your predictions are from the expected data.  A very common error metric is the MSE, which we defined when talking about the loss function. It is very common to report the MSE between the machine learning predictions and the expected results.  We can do this easily using Scikit-Learn."
   ]
  },
  {
   "cell_type": "code",
   "execution_count": 8,
   "id": "b7de3b41-7106-445e-99c4-1a149b80ec82",
   "metadata": {},
   "outputs": [
    {
     "name": "stdout",
     "output_type": "stream",
     "text": [
      "MEAN SQUARED ERROR: 1.7369681753028576e-28\n"
     ]
    }
   ],
   "source": [
    "from sklearn.metrics import mean_squared_error\n",
    "\n",
    "print(\"MEAN SQUARED ERROR:\", mean_squared_error(y_test, y_pred))"
   ]
  },
  {
   "cell_type": "markdown",
   "id": "bb4b74d5-5efa-4fb8-a9a4-14e695a61747",
   "metadata": {},
   "source": [
    "To interpret this result, this means that each data point differs from the true result by the square root of the MSE on average.  This may be hard to think about, so therefore we can define the root mean-squared error (RMSE) as the square root of the MSE score."
   ]
  },
  {
   "cell_type": "code",
   "execution_count": 9,
   "id": "f3584a72-50ba-423c-8822-6dc5339f9ad2",
   "metadata": {},
   "outputs": [
    {
     "name": "stdout",
     "output_type": "stream",
     "text": [
      "ROOT MEAN SQUARED ERROR: 1.3179408846009966e-14\n"
     ]
    }
   ],
   "source": [
    "print(\"ROOT MEAN SQUARED ERROR:\", np.sqrt(mean_squared_error(y_test, y_pred)))"
   ]
  },
  {
   "cell_type": "markdown",
   "id": "a681d430-2f5d-4907-82bc-578e6f6176de",
   "metadata": {},
   "source": [
    "We can interpret a RMSE as the average error on each prediction, so this is a bit easier to see that our linear regression predictions are very close to the true or expected results.  There are a couple of other error metrics we can look at as well.  First is the R2-score, which is a measure of how linear a data set is. A perfect line as a score of 1, the further from 1 the less linear the data set is. If a data set is plotted against itself it will make a perfect line, and thus will have an r2-score of 1.  Therefore, we can calculate the R2-score between our predicted and expected data sets and see how close the results is to 1.  The closer to 1 the closer the two data sets are to being identical."
   ]
  },
  {
   "cell_type": "code",
   "execution_count": 10,
   "id": "29d2c5c0-808d-40b9-be4f-bf2822d99b71",
   "metadata": {},
   "outputs": [
    {
     "name": "stdout",
     "output_type": "stream",
     "text": [
      "R2-SCORE: 1.0\n"
     ]
    }
   ],
   "source": [
    "from sklearn.metrics import r2_score\n",
    "\n",
    "print(\"R2-SCORE:\", r2_score(y_test, y_pred))"
   ]
  },
  {
   "cell_type": "markdown",
   "id": "4a64316b-201b-4db6-a77f-760e31e119f4",
   "metadata": {},
   "source": [
    "As expected, the r2-score indicates that these data sets are identical, so our machine learning algorithm is doing a good job of matching the data set.  As a final error metric we can look at the mean absolute percentage error, which tells, as a percentage, how much the data sets differ.  Here 0% means the data sets are identical and larger numbers mean there are differences in the data sets."
   ]
  },
  {
   "cell_type": "code",
   "execution_count": 11,
   "id": "9f2d04ef-7c1e-47e0-92f7-d7d152bb8532",
   "metadata": {},
   "outputs": [
    {
     "name": "stdout",
     "output_type": "stream",
     "text": [
      "MEAN ABSOLUTE PERCENTAGE ERROR: 7.656495376191392e-16 %\n"
     ]
    }
   ],
   "source": [
    "from sklearn.metrics import mean_absolute_percentage_error\n",
    "\n",
    "print(\"MEAN ABSOLUTE PERCENTAGE ERROR:\", mean_absolute_percentage_error(y_test, y_pred), \"%\")"
   ]
  },
  {
   "cell_type": "markdown",
   "id": "3e02ff2f-e637-40af-be46-203c9d0346ae",
   "metadata": {},
   "source": [
    "Finally, if we have a model we know to be true (in this case the equation of the line, y = 4x-3), we can extract the trained parameters from the linear regression model and see if they are correct.  In this case, the one trained weight should be the slope of the line (in this case 4). The Scikit-Learn linear regression algorithm also fits the y-intercept of the data by default so we can also extract that and see if it is correct (in this case it should be -3)."
   ]
  },
  {
   "cell_type": "code",
   "execution_count": 12,
   "id": "02fc1b1b-5081-4069-80f2-e530b8d710af",
   "metadata": {},
   "outputs": [
    {
     "name": "stdout",
     "output_type": "stream",
     "text": [
      "LINEAR REGRESSION SLOPE: [4.]\n",
      "LINEAR REGRESSION INTERCEPT: -3.000000000000001\n"
     ]
    }
   ],
   "source": [
    "# Check the optimized weights and the slope that are fit by the linear regression algorithm\n",
    "# The slope should be 4 and the intercept -3 (set when we created the data)\n",
    "print(\"LINEAR REGRESSION SLOPE:\", linear_regression.coef_)\n",
    "print(\"LINEAR REGRESSION INTERCEPT:\", linear_regression.intercept_)"
   ]
  },
  {
   "cell_type": "markdown",
   "id": "c37ab089-b0f2-4b1d-b242-74c57eb6f33a",
   "metadata": {},
   "source": [
    "### Using a Design Matrix to Extend the Applications of Linear Regression\n",
    "\n",
    "Linear regression, as it has been defined thus far, can only model patterns where the output is a linear combination of any inputs.  This simple pattern covers a suprising number of data sets, but not all of them. In situations where we want to model a data set that does not have a strictly linear pattern, we can still use linear regression, but we will have to make some modifications.\n",
    "\n",
    "## Unmodified Linear Regression\n",
    "Assume that we have a data set (**X**, $\\vec{y}$) which contains N data points.  Futhermore, assume that each data point in **X** contains m values (thus **X** is a two dimensional data set and can be represented as a matrix).  If we start with the output of a standard linear regression algorithm:\n",
    "\n",
    "$$$\\hat{y} = \\textbf{X}\\theta,$$\n",
    "\n",
    "we can plug in the forms of **X** and $\\hat{y}$ we have to yield:\n",
    "\n",
    "$$ \\begin{bmatrix}\n",
    "    \\hat{y}_0 \\\\\n",
    "    \\hat{y}_1 \\\\\n",
    "    \\hat{y}_2 \\\\\n",
    "    . \\\\\n",
    "    . \\\\\n",
    "    . \\\\\n",
    "    \\hat{y}_m\n",
    "\\end{bmatrix} = \\begin{bmatrix}\n",
    "X_{00} & X_{01} & X_{02} & . & . & . & X_{0m} \\\\\n",
    "X_{10} & X_{11} & X_{12} & . & . & . & X_{1m} \\\\\n",
    "X_{20} & X_{21} & X_{22} & . & . & . & X_{2m} \\\\\n",
    ". & . & . & . & . & . & . \\\\\n",
    ". & . & . & . & . & . & . \\\\\n",
    ". & . & . & . & . & . & . \\\\\n",
    "X_{N0} & X_{N1} & X_{N2} & . & . & . & X_{Nm} \\\\\n",
    "\\end{bmatrix}\\begin{bmatrix}\n",
    "\\theta_0 \\\\\n",
    "\\theta _1 \\\\\n",
    "\\theta _2\\\\\n",
    ". \\\\\n",
    ". \\\\\n",
    ". \\\\\n",
    "\\theta_m\n",
    "\\end{bmatrix}\n",
    "$$\n",
    "\n",
    "We can use vector-matrix multiplication to expand the above and get an equation for each value in the $\\hat{y}$ vector:\n",
    "$$\\hat{y}_i = X_{i0}\\theta_0 + X_{i1}\\theta_1 + X_{i2}\\theta_2 + ... + X_{im}\\theta_m$$\n",
    "\n",
    "Thus, every linear regression prediction is a linear combination of the inputs, modified by the optimized paramters.  While this works well for data sets with linear patterms, many data sets we come across will not have such simple patterns.  Thus, we need to find a way to extend the types of problems linear regression can be applied to in order to make it a useful machine learning algorithm.\n",
    "\n",
    "### Fitting non-linear curves\n",
    "\n",
    "Consider the following data set:"
   ]
  },
  {
   "cell_type": "code",
   "execution_count": 13,
   "id": "2fa127d3-6006-46e1-980d-8122409ab967",
   "metadata": {},
   "outputs": [
    {
     "data": {
      "text/plain": [
       "[<matplotlib.lines.Line2D at 0x13a321f70>]"
      ]
     },
     "execution_count": 13,
     "metadata": {},
     "output_type": "execute_result"
    },
    {
     "data": {
      "image/png": "[encoded data removed]",
      "text/plain": [
       "<Figure size 640x480 with 1 Axes>"
      ]
     },
     "metadata": {},
     "output_type": "display_data"
    }
   ],
   "source": [
    "X = np.arange(-5,5,0.1)\n",
    "y = 3*X**2 + 2*X - 1\n",
    "\n",
    "plt.plot(X,y)"
   ]
  },
  {
   "cell_type": "markdown",
   "id": "9be3dfff-dc93-49a0-b5b7-9724cf6801f4",
   "metadata": {},
   "source": [
    "If we tried to fit this data set with linear regression, the only way it can model the data is with a straight line, which is not a good model for this data."
   ]
  },
  {
   "cell_type": "code",
   "execution_count": 14,
   "id": "559bc144-b795-4ba9-8dec-b385fd9e6979",
   "metadata": {},
   "outputs": [
    {
     "name": "stdout",
     "output_type": "stream",
     "text": [
      "RMSE: 116.7218917769919\n"
     ]
    },
    {
     "data": {
      "text/plain": [
       "<matplotlib.legend.Legend at 0x13a375c10>"
      ]
     },
     "execution_count": 14,
     "metadata": {},
     "output_type": "execute_result"
    },
    {
     "data": {
      "image/png": "[encoded data removed]",
      "text/plain": [
       "<Figure size 640x480 with 1 Axes>"
      ]
     },
     "metadata": {},
     "output_type": "display_data"
    }
   ],
   "source": [
    "X = X.reshape(-1,1)\n",
    "\n",
    "linear_regression = LinearRegression()\n",
    "linear_regression.fit(X,y)\n",
    "\n",
    "X_test = np.arange(-10, 10, 0.1)\n",
    "y_test = 3*X_test**2 + 2*X_test -1\n",
    "\n",
    "X_test = X_test.reshape(-1,1)\n",
    "\n",
    "y_pred = linear_regression.predict(X_test)\n",
    "\n",
    "print(\"RMSE:\", np.sqrt(mean_squared_error(y_pred, y_test)))\n",
    "\n",
    "plt.plot(X_test,y_test,color='blue',linewidth=3,label=\"True\")\n",
    "plt.plot(X_test, y_pred, color='red', linewidth=3,linestyle=':', label=\"Predicted\")\n",
    "plt.legend()"
   ]
  },
  {
   "cell_type": "markdown",
   "id": "d185134d-9e25-404e-899f-271b53419bc1",
   "metadata": {},
   "source": [
    "We need a way to force the linear regression algorithm to fit non-linear data sets, and we will do this with something called a design matrix. Instead of passing the linear regression algorithm **X**, we will instead pass it a matrix with three columns--**X**$^2$, **X**, and 1--so that the results of the trained linear regression algorithm will be:\n",
    "\n",
    "$$\\hat{y}_i = \\textbf{X}_i^2\\theta_0 + \\textbf{X}_i\\theta_1 + 1\\theta_2,$$\n",
    "\n",
    "which is the equation for a quadratic curve.  Since we created the curve and know what the coefficients should be then we know that $\\theta_0$ should be 3, $\\theta_1$ should be 2, and $\\theta_2$ should be -1.  We can create our design matrix using the below code cell."
   ]
  },
  {
   "cell_type": "code",
   "execution_count": 15,
   "id": "50fe165a-f64f-46de-9b4b-bb62b3a2ca97",
   "metadata": {},
   "outputs": [],
   "source": [
    "X = X.flatten()\n",
    "\n",
    "column_one = X**2\n",
    "column_two = X\n",
    "column_three = np.ones(len(X))\n",
    "\n",
    "X_design_matrix = np.array([column_one, column_two, column_three]).T"
   ]
  },
  {
   "cell_type": "markdown",
   "id": "103a5703-130a-42a3-8f7f-8b910a53163f",
   "metadata": {},
   "source": [
    "Now we want to train a linear regression algorithm with the new design matrix.  Since we are already fitting the intercept of the data with the design matrix (using the column of ones), we need to set the argument `fit_intercept` to False."
   ]
  },
  {
   "cell_type": "code",
   "execution_count": 16,
   "id": "94c4d2b2-7165-4a9a-b98f-4645065c9c82",
   "metadata": {},
   "outputs": [
    {
     "data": {
      "text/html": [
       "<style>#sk-container-id-2 {color: black;}#sk-container-id-2 pre{padding: 0;}#sk-container-id-2 div.sk-toggleable {background-color: white;}#sk-container-id-2 label.sk-toggleable__label {cursor: pointer;display: block;width: 100%;margin-bottom: 0;padding: 0.3em;box-sizing: border-box;text-align: center;}#sk-container-id-2 label.sk-toggleable__label-arrow:before {content: \"▸\";float: left;margin-right: 0.25em;color: #696969;}#sk-container-id-2 label.sk-toggleable__label-arrow:hover:before {color: black;}#sk-container-id-2 div.sk-estimator:hover label.sk-toggleable__label-arrow:before {color: black;}#sk-container-id-2 div.sk-toggleable__content {max-height: 0;max-width: 0;overflow: hidden;text-align: left;background-color: #f0f8ff;}#sk-container-id-2 div.sk-toggleable__content pre {margin: 0.2em;color: black;border-radius: 0.25em;background-color: #f0f8ff;}#sk-container-id-2 input.sk-toggleable__control:checked~div.sk-toggleable__content {max-height: 200px;max-width: 100%;overflow: auto;}#sk-container-id-2 input.sk-toggleable__control:checked~label.sk-toggleable__label-arrow:before {content: \"▾\";}#sk-container-id-2 div.sk-estimator input.sk-toggleable__control:checked~label.sk-toggleable__label {background-color: #d4ebff;}#sk-container-id-2 div.sk-label input.sk-toggleable__control:checked~label.sk-toggleable__label {background-color: #d4ebff;}#sk-container-id-2 input.sk-hidden--visually {border: 0;clip: rect(1px 1px 1px 1px);clip: rect(1px, 1px, 1px, 1px);height: 1px;margin: -1px;overflow: hidden;padding: 0;position: absolute;width: 1px;}#sk-container-id-2 div.sk-estimator {font-family: monospace;background-color: #f0f8ff;border: 1px dotted black;border-radius: 0.25em;box-sizing: border-box;margin-bottom: 0.5em;}#sk-container-id-2 div.sk-estimator:hover {background-color: #d4ebff;}#sk-container-id-2 div.sk-parallel-item::after {content: \"\";width: 100%;border-bottom: 1px solid gray;flex-grow: 1;}#sk-container-id-2 div.sk-label:hover label.sk-toggleable__label {background-color: #d4ebff;}#sk-container-id-2 div.sk-serial::before {content: \"\";position: absolute;border-left: 1px solid gray;box-sizing: border-box;top: 0;bottom: 0;left: 50%;z-index: 0;}#sk-container-id-2 div.sk-serial {display: flex;flex-direction: column;align-items: center;background-color: white;padding-right: 0.2em;padding-left: 0.2em;position: relative;}#sk-container-id-2 div.sk-item {position: relative;z-index: 1;}#sk-container-id-2 div.sk-parallel {display: flex;align-items: stretch;justify-content: center;background-color: white;position: relative;}#sk-container-id-2 div.sk-item::before, #sk-container-id-2 div.sk-parallel-item::before {content: \"\";position: absolute;border-left: 1px solid gray;box-sizing: border-box;top: 0;bottom: 0;left: 50%;z-index: -1;}#sk-container-id-2 div.sk-parallel-item {display: flex;flex-direction: column;z-index: 1;position: relative;background-color: white;}#sk-container-id-2 div.sk-parallel-item:first-child::after {align-self: flex-end;width: 50%;}#sk-container-id-2 div.sk-parallel-item:last-child::after {align-self: flex-start;width: 50%;}#sk-container-id-2 div.sk-parallel-item:only-child::after {width: 0;}#sk-container-id-2 div.sk-dashed-wrapped {border: 1px dashed gray;margin: 0 0.4em 0.5em 0.4em;box-sizing: border-box;padding-bottom: 0.4em;background-color: white;}#sk-container-id-2 div.sk-label label {font-family: monospace;font-weight: bold;display: inline-block;line-height: 1.2em;}#sk-container-id-2 div.sk-label-container {text-align: center;}#sk-container-id-2 div.sk-container {/* jupyter's `normalize.less` sets `[hidden] { display: none; }` but bootstrap.min.css set `[hidden] { display: none !important; }` so we also need the `!important` here to be able to override the default hidden behavior on the sphinx rendered scikit-learn.org. See: https://github.com/scikit-learn/scikit-learn/issues/21755 */display: inline-block !important;position: relative;}#sk-container-id-2 div.sk-text-repr-fallback {display: none;}</style><div id=\"sk-container-id-2\" class=\"sk-top-container\"><div class=\"sk-text-repr-fallback\"><pre>LinearRegression(fit_intercept=False)</pre><b>In a Jupyter environment, please rerun this cell to show the HTML representation or trust the notebook. <br />On GitHub, the HTML representation is unable to render, please try loading this page with nbviewer.org.</b></div><div class=\"sk-container\" hidden><div class=\"sk-item\"><div class=\"sk-estimator sk-toggleable\"><input class=\"sk-toggleable__control sk-hidden--visually\" id=\"sk-estimator-id-2\" type=\"checkbox\" checked><label for=\"sk-estimator-id-2\" class=\"sk-toggleable__label sk-toggleable__label-arrow\">LinearRegression</label><div class=\"sk-toggleable__content\"><pre>LinearRegression(fit_intercept=False)</pre></div></div></div></div></div>"
      ],
      "text/plain": [
       "LinearRegression(fit_intercept=False)"
      ]
     },
     "execution_count": 16,
     "metadata": {},
     "output_type": "execute_result"
    }
   ],
   "source": [
    "linear_regression = LinearRegression(fit_intercept=False)\n",
    "linear_regression.fit(X_design_matrix, y)"
   ]
  },
  {
   "cell_type": "markdown",
   "id": "355ec842-02ae-406c-8b9d-a655eb45b43c",
   "metadata": {},
   "source": [
    "Now to test the new method, we also need to format the test data set in the same manner before doing the predictions."
   ]
  },
  {
   "cell_type": "code",
   "execution_count": 17,
   "id": "e8bc948e-a8b8-458e-a6c5-456b4f95f34f",
   "metadata": {},
   "outputs": [],
   "source": [
    "X_test = X_test.flatten()\n",
    "\n",
    "column_one = X_test**2\n",
    "column_two = X_test\n",
    "column_three = np.ones(len(X_test))\n",
    "\n",
    "X_test_design_matrix = np.array([column_one, column_two, column_three]).T\n",
    "\n",
    "y_pred = linear_regression.predict(X_test_design_matrix)"
   ]
  },
  {
   "cell_type": "markdown",
   "id": "6e5a1889-4c4e-4f6b-8ce2-e1db2a07ff04",
   "metadata": {},
   "source": [
    "And we see that our predictions are now an exact match for the expected data set.  Thus by using a design matrix we have extended the range of problems linear regression can be applied to past just simple linear relationships."
   ]
  },
  {
   "cell_type": "code",
   "execution_count": 18,
   "id": "fdb9bc6b-c0d0-4197-82b7-4a4891344d08",
   "metadata": {},
   "outputs": [
    {
     "name": "stdout",
     "output_type": "stream",
     "text": [
      "RMSE: 8.290028596924758e-14\n"
     ]
    },
    {
     "data": {
      "text/plain": [
       "<matplotlib.legend.Legend at 0x13a4192e0>"
      ]
     },
     "execution_count": 18,
     "metadata": {},
     "output_type": "execute_result"
    },
    {
     "data": {
      "image/png": "[encoded data removed]",
      "text/plain": [
       "<Figure size 640x480 with 1 Axes>"
      ]
     },
     "metadata": {},
     "output_type": "display_data"
    }
   ],
   "source": [
    "print(\"RMSE:\", np.sqrt(mean_squared_error(y_pred, y_test)))\n",
    "\n",
    "plt.plot(X_test,y_test,color='blue',linewidth=3,label=\"True\")\n",
    "plt.plot(X_test, y_pred, color='red', linewidth=3,linestyle=':', label=\"Predicted\")\n",
    "plt.legend()"
   ]
  },
  {
   "cell_type": "markdown",
   "id": "701d671a-51ad-4e4f-bb02-9e244535417b",
   "metadata": {},
   "source": [
    "Finally, we can confirm that the trained parameters of the linear regression algorithm are exactly what is expected."
   ]
  },
  {
   "cell_type": "code",
   "execution_count": 19,
   "id": "06acbbb3-fb8a-413c-95de-ede897d73911",
   "metadata": {},
   "outputs": [
    {
     "data": {
      "text/plain": [
       "array([ 3.,  2., -1.])"
      ]
     },
     "execution_count": 19,
     "metadata": {},
     "output_type": "execute_result"
    }
   ],
   "source": [
    "linear_regression.coef_"
   ]
  },
  {
   "cell_type": "markdown",
   "id": "c019b375-e01d-404a-94ac-662e7930e108",
   "metadata": {},
   "source": [
    "Design matrices are very powerful extensions to linear regression and the do not require you to know a functional form of your data.  If a theoretical model exists for the data (as in the above and below examples) this makes the process easier, but a [Vandermonde matrix](https://en.wikipedia.org/wiki/Vandermonde_matrix) can also be used as a design matrix when no theoretical model is known."
   ]
  },
  {
   "cell_type": "markdown",
   "id": "670e1b3e-db91-4f1a-a13f-920a86789216",
   "metadata": {},
   "source": [
    "### Real World Example\n",
    "\n",
    "The force between two electrons can be modeled using the following equation:\n",
    "\n",
    "$$F = \\frac{kq^2}{r^2},$$\n",
    "\n",
    "where q is the charge of an electron (-1.69e-19 C), r is the separation between the two electrons in meters, and k is a scaling constant. The goal of this problem is to determine the value of k using linear regression and measurements of the force and separation between two electrons.\n",
    "\n",
    "First we import the data set from the web using Pandas and save it as a Dataframe."
   ]
  },
  {
   "cell_type": "code",
   "execution_count": 20,
   "id": "9f88df74-00a8-4b0d-ae90-b6e7aaad5326",
   "metadata": {},
   "outputs": [
    {
     "data": {
      "text/html": [
       "<div>\n",
       "<style scoped>\n",
       "    .dataframe tbody tr th:only-of-type {\n",
       "        vertical-align: middle;\n",
       "    }\n",
       "\n",
       "    .dataframe tbody tr th {\n",
       "        vertical-align: top;\n",
       "    }\n",
       "\n",
       "    .dataframe thead th {\n",
       "        text-align: right;\n",
       "    }\n",
       "</style>\n",
       "<table border=\"1\" class=\"dataframe\">\n",
       "  <thead>\n",
       "    <tr style=\"text-align: right;\">\n",
       "      <th></th>\n",
       "      <th>Unnamed: 0</th>\n",
       "      <th>r</th>\n",
       "      <th>F</th>\n",
       "    </tr>\n",
       "  </thead>\n",
       "  <tbody>\n",
       "    <tr>\n",
       "      <th>0</th>\n",
       "      <td>0</td>\n",
       "      <td>1.000000e-10</td>\n",
       "      <td>2.570490e-08</td>\n",
       "    </tr>\n",
       "    <tr>\n",
       "      <th>1</th>\n",
       "      <td>1</td>\n",
       "      <td>1.100000e-10</td>\n",
       "      <td>2.124372e-08</td>\n",
       "    </tr>\n",
       "    <tr>\n",
       "      <th>2</th>\n",
       "      <td>2</td>\n",
       "      <td>1.200000e-10</td>\n",
       "      <td>1.785062e-08</td>\n",
       "    </tr>\n",
       "    <tr>\n",
       "      <th>3</th>\n",
       "      <td>3</td>\n",
       "      <td>1.300000e-10</td>\n",
       "      <td>1.521000e-08</td>\n",
       "    </tr>\n",
       "    <tr>\n",
       "      <th>4</th>\n",
       "      <td>4</td>\n",
       "      <td>1.400000e-10</td>\n",
       "      <td>1.311474e-08</td>\n",
       "    </tr>\n",
       "    <tr>\n",
       "      <th>...</th>\n",
       "      <td>...</td>\n",
       "      <td>...</td>\n",
       "      <td>...</td>\n",
       "    </tr>\n",
       "    <tr>\n",
       "      <th>86</th>\n",
       "      <td>86</td>\n",
       "      <td>9.600000e-10</td>\n",
       "      <td>2.789160e-10</td>\n",
       "    </tr>\n",
       "    <tr>\n",
       "      <th>87</th>\n",
       "      <td>87</td>\n",
       "      <td>9.700000e-10</td>\n",
       "      <td>2.731948e-10</td>\n",
       "    </tr>\n",
       "    <tr>\n",
       "      <th>88</th>\n",
       "      <td>88</td>\n",
       "      <td>9.800000e-10</td>\n",
       "      <td>2.676479e-10</td>\n",
       "    </tr>\n",
       "    <tr>\n",
       "      <th>89</th>\n",
       "      <td>89</td>\n",
       "      <td>9.900000e-10</td>\n",
       "      <td>2.622681e-10</td>\n",
       "    </tr>\n",
       "    <tr>\n",
       "      <th>90</th>\n",
       "      <td>90</td>\n",
       "      <td>1.000000e-09</td>\n",
       "      <td>2.570490e-10</td>\n",
       "    </tr>\n",
       "  </tbody>\n",
       "</table>\n",
       "<p>91 rows × 3 columns</p>\n",
       "</div>"
      ],
      "text/plain": [
       "    Unnamed: 0             r             F\n",
       "0            0  1.000000e-10  2.570490e-08\n",
       "1            1  1.100000e-10  2.124372e-08\n",
       "2            2  1.200000e-10  1.785062e-08\n",
       "3            3  1.300000e-10  1.521000e-08\n",
       "4            4  1.400000e-10  1.311474e-08\n",
       "..         ...           ...           ...\n",
       "86          86  9.600000e-10  2.789160e-10\n",
       "87          87  9.700000e-10  2.731948e-10\n",
       "88          88  9.800000e-10  2.676479e-10\n",
       "89          89  9.900000e-10  2.622681e-10\n",
       "90          90  1.000000e-09  2.570490e-10\n",
       "\n",
       "[91 rows x 3 columns]"
      ]
     },
     "execution_count": 20,
     "metadata": {},
     "output_type": "execute_result"
    }
   ],
   "source": [
    "import pandas as pd\n",
    "force_dataset = pd.read_csv('https://raw.githubusercontent.com/butler-julie/DSC340LectureNotes/main/week2_slides.csv')\n",
    "force_dataset"
   ]
  },
  {
   "cell_type": "markdown",
   "id": "985a0001-0d15-4860-a89a-59496e4434b6",
   "metadata": {},
   "source": [
    "Next we extract the data we need and plot it to ensure it resembles the expected 1/r$^2$ curve."
   ]
  },
  {
   "cell_type": "code",
   "execution_count": 21,
   "id": "539e62d1-102c-4b47-9cf9-869ab9ba8ca3",
   "metadata": {},
   "outputs": [
    {
     "ename": "KeyError",
     "evalue": "'F)'",
     "output_type": "error",
     "traceback": [
      "\u001b[0;31m---------------------------------------------------------------------------\u001b[0m",
      "\u001b[0;31mKeyError\u001b[0m                                  Traceback (most recent call last)",
      "File \u001b[0;32m~/Library/Python/3.9/lib/python/site-packages/pandas/core/indexes/base.py:3653\u001b[0m, in \u001b[0;36mIndex.get_loc\u001b[0;34m(self, key)\u001b[0m\n\u001b[1;32m   3652\u001b[0m \u001b[38;5;28;01mtry\u001b[39;00m:\n\u001b[0;32m-> 3653\u001b[0m     \u001b[38;5;28;01mreturn\u001b[39;00m \u001b[38;5;28;43mself\u001b[39;49m\u001b[38;5;241;43m.\u001b[39;49m\u001b[43m_engine\u001b[49m\u001b[38;5;241;43m.\u001b[39;49m\u001b[43mget_loc\u001b[49m\u001b[43m(\u001b[49m\u001b[43mcasted_key\u001b[49m\u001b[43m)\u001b[49m\n\u001b[1;32m   3654\u001b[0m \u001b[38;5;28;01mexcept\u001b[39;00m \u001b[38;5;167;01mKeyError\u001b[39;00m \u001b[38;5;28;01mas\u001b[39;00m err:\n",
      "File \u001b[0;32m~/Library/Python/3.9/lib/python/site-packages/pandas/_libs/index.pyx:147\u001b[0m, in \u001b[0;36mpandas._libs.index.IndexEngine.get_loc\u001b[0;34m()\u001b[0m\n",
      "File \u001b[0;32m~/Library/Python/3.9/lib/python/site-packages/pandas/_libs/index.pyx:176\u001b[0m, in \u001b[0;36mpandas._libs.index.IndexEngine.get_loc\u001b[0;34m()\u001b[0m\n",
      "File \u001b[0;32mpandas/_libs/hashtable_class_helper.pxi:7080\u001b[0m, in \u001b[0;36mpandas._libs.hashtable.PyObjectHashTable.get_item\u001b[0;34m()\u001b[0m\n",
      "File \u001b[0;32mpandas/_libs/hashtable_class_helper.pxi:7088\u001b[0m, in \u001b[0;36mpandas._libs.hashtable.PyObjectHashTable.get_item\u001b[0;34m()\u001b[0m\n",
      "\u001b[0;31mKeyError\u001b[0m: 'F)'",
      "\nThe above exception was the direct cause of the following exception:\n",
      "\u001b[0;31mKeyError\u001b[0m                                  Traceback (most recent call last)",
      "Cell \u001b[0;32mIn[21], line 2\u001b[0m\n\u001b[1;32m      1\u001b[0m r \u001b[38;5;241m=\u001b[39m np\u001b[38;5;241m.\u001b[39masarray(force_dataset[\u001b[38;5;124m'\u001b[39m\u001b[38;5;124mr\u001b[39m\u001b[38;5;124m'\u001b[39m])\n\u001b[0;32m----> 2\u001b[0m F \u001b[38;5;241m=\u001b[39m np\u001b[38;5;241m.\u001b[39masarray(\u001b[43mforce_dataset\u001b[49m\u001b[43m[\u001b[49m\u001b[38;5;124;43m'\u001b[39;49m\u001b[38;5;124;43mF)\u001b[39;49m\u001b[38;5;124;43m'\u001b[39;49m\u001b[43m]\u001b[49m)\n\u001b[1;32m      3\u001b[0m plt\u001b[38;5;241m.\u001b[39mplot(r,F)\n\u001b[1;32m      4\u001b[0m plt\u001b[38;5;241m.\u001b[39mxlabel(\u001b[38;5;124m'\u001b[39m\u001b[38;5;124mSeparation (m)\u001b[39m\u001b[38;5;124m'\u001b[39m)\n",
      "File \u001b[0;32m~/Library/Python/3.9/lib/python/site-packages/pandas/core/frame.py:3761\u001b[0m, in \u001b[0;36mDataFrame.__getitem__\u001b[0;34m(self, key)\u001b[0m\n\u001b[1;32m   3759\u001b[0m \u001b[38;5;28;01mif\u001b[39;00m \u001b[38;5;28mself\u001b[39m\u001b[38;5;241m.\u001b[39mcolumns\u001b[38;5;241m.\u001b[39mnlevels \u001b[38;5;241m>\u001b[39m \u001b[38;5;241m1\u001b[39m:\n\u001b[1;32m   3760\u001b[0m     \u001b[38;5;28;01mreturn\u001b[39;00m \u001b[38;5;28mself\u001b[39m\u001b[38;5;241m.\u001b[39m_getitem_multilevel(key)\n\u001b[0;32m-> 3761\u001b[0m indexer \u001b[38;5;241m=\u001b[39m \u001b[38;5;28;43mself\u001b[39;49m\u001b[38;5;241;43m.\u001b[39;49m\u001b[43mcolumns\u001b[49m\u001b[38;5;241;43m.\u001b[39;49m\u001b[43mget_loc\u001b[49m\u001b[43m(\u001b[49m\u001b[43mkey\u001b[49m\u001b[43m)\u001b[49m\n\u001b[1;32m   3762\u001b[0m \u001b[38;5;28;01mif\u001b[39;00m is_integer(indexer):\n\u001b[1;32m   3763\u001b[0m     indexer \u001b[38;5;241m=\u001b[39m [indexer]\n",
      "File \u001b[0;32m~/Library/Python/3.9/lib/python/site-packages/pandas/core/indexes/base.py:3655\u001b[0m, in \u001b[0;36mIndex.get_loc\u001b[0;34m(self, key)\u001b[0m\n\u001b[1;32m   3653\u001b[0m     \u001b[38;5;28;01mreturn\u001b[39;00m \u001b[38;5;28mself\u001b[39m\u001b[38;5;241m.\u001b[39m_engine\u001b[38;5;241m.\u001b[39mget_loc(casted_key)\n\u001b[1;32m   3654\u001b[0m \u001b[38;5;28;01mexcept\u001b[39;00m \u001b[38;5;167;01mKeyError\u001b[39;00m \u001b[38;5;28;01mas\u001b[39;00m err:\n\u001b[0;32m-> 3655\u001b[0m     \u001b[38;5;28;01mraise\u001b[39;00m \u001b[38;5;167;01mKeyError\u001b[39;00m(key) \u001b[38;5;28;01mfrom\u001b[39;00m \u001b[38;5;21;01merr\u001b[39;00m\n\u001b[1;32m   3656\u001b[0m \u001b[38;5;28;01mexcept\u001b[39;00m \u001b[38;5;167;01mTypeError\u001b[39;00m:\n\u001b[1;32m   3657\u001b[0m     \u001b[38;5;66;03m# If we have a listlike key, _check_indexing_error will raise\u001b[39;00m\n\u001b[1;32m   3658\u001b[0m     \u001b[38;5;66;03m#  InvalidIndexError. Otherwise we fall through and re-raise\u001b[39;00m\n\u001b[1;32m   3659\u001b[0m     \u001b[38;5;66;03m#  the TypeError.\u001b[39;00m\n\u001b[1;32m   3660\u001b[0m     \u001b[38;5;28mself\u001b[39m\u001b[38;5;241m.\u001b[39m_check_indexing_error(key)\n",
      "\u001b[0;31mKeyError\u001b[0m: 'F)'"
     ]
    }
   ],
   "source": [
    "r = np.asarray(force_dataset['r'])\n",
    "F = np.asarray(force_dataset['F)'])\n",
    "plt.plot(r,F)\n",
    "plt.xlabel('Separation (m)')\n",
    "plt.ylabel('Force Between Charges (C)')"
   ]
  },
  {
   "cell_type": "markdown",
   "id": "159c6a03-9c4a-4758-9125-0087a8f50262",
   "metadata": {},
   "source": [
    "We can rewrite the force equation slightly to better see our approach:\n",
    "\n",
    "$$ F = \\frac{kq^2}{r^2} = kq^2\\frac{1}{r^2}.$$\n",
    "\n",
    "$kq^2$ is a constant, the constant we are going to try to predict with linear regression, making it the parameter, $\\theta$.  This means that the **X** data will be $\\frac{1}{r^2}$.  So let's train a linear regression algorithm with the inputs being $\\frac{1}{r^2}$ and the outputs being the force data.  Then we can extract the trained coefficient."
   ]
  },
  {
   "cell_type": "code",
   "execution_count": 57,
   "id": "dad4489f-2fc7-4761-9e77-9953b61b8acf",
   "metadata": {},
   "outputs": [
    {
     "name": "stdout",
     "output_type": "stream",
     "text": [
      "[2.57049e-28]\n"
     ]
    }
   ],
   "source": [
    "r_squared = r**2\n",
    "r_squared_inverse = 1/r_squared\n",
    "\n",
    "r_squared_inverse = r_squared_inverse.reshape(-1,1)\n",
    "\n",
    "linear_regression = LinearRegression()\n",
    "linear_regression.fit(r_squared_inverse, F)\n",
    "coef = linear_regression.coef_\n",
    "print(coef)"
   ]
  },
  {
   "cell_type": "markdown",
   "id": "57959237-2c2b-4350-a23d-ffc8d60f6eae",
   "metadata": {},
   "source": [
    "This trained coeffiecient is $kq^2$, so if we want to extract just k we will need to divide twice by the charge of the electron to find the expected value of k being $9e9 \\frac{Nm^2}{C^2}$."
   ]
  },
  {
   "cell_type": "code",
   "execution_count": 58,
   "id": "476a99bf-b2fe-49bf-b1cc-b3841b65dd48",
   "metadata": {},
   "outputs": [
    {
     "name": "stdout",
     "output_type": "stream",
     "text": [
      "Constant: [9.e+09]\n"
     ]
    }
   ],
   "source": [
    "charge_electron = 1.69e-19\n",
    "k = coef/charge_electron/charge_electron\n",
    "print(\"Constant:\", k)"
   ]
  },
  {
   "cell_type": "markdown",
   "id": "8149b740-4b2f-475d-b501-e534d73b0b3f",
   "metadata": {},
   "source": [
    "This was a simple example of using a design matrix to extract physical constants from data sets. In the in-class assignment this week we will look at a more complicated example involving the binding energies data set from the week 1 in-class assignment. "
   ]
  },
  {
   "cell_type": "markdown",
   "id": "5bc3cf60-ddd4-4a8e-91af-790c13f17211",
   "metadata": {},
   "source": [
    "# The Machine Learning Workflow\n",
    "\n",
    "The machine learning workflow describes the process of taking a data set, formatting it, training a machine learning model, and using that trained machine learning model to make predictions. The steps involved in most machine learning workflows are as follows:\n",
    "    * Import the data set, perform an initial analysis\n",
    "    * Split the data into a training set and a test set\n",
    "    * Train the machine learning algorithm with the training set\n",
    "    * Test the performance of the trained model with the test set using numerical metrics and visual analysis\n",
    "    * (Optional) Improve the performance of the algorithm by either reformatting the data OR changing the parameters of the machine learning algorithm\n",
    "\n",
    "The first step involves importing the data set from a file, a Python library, or from the web and making it useable. This includes removing some of the data that does not fit the required format, changing parts of the data set from non-numeric to numeric entries, changing the units on the data, etc. We went through some of this process in the week 1 in-class assignment and will see many more examples throughout this course. \n",
    "\n",
    "The second step in the machine learning workflow is to split the data set into a training set and a test set. The training set, which is usually 70% - 80% of the total data, is used to train the machine learning model and the test set, the remaining 20%-30% of the data, is used to test the performance and accuracy of the model. It is important that the machine learning model is never trained using the test set so that you get an accurate measure of how the trained model performs on data it has never seen before. The most common way to create the two data sets is to randomly split up the data, usually done with the Scikit-Learn function `train_test_split`, but it is possible to do other data splits depending on the goal of the machine learning. Towards the end of this course when we cover recurrent neural networks, we will split out data into two sequentially instead of randomly because we are interested in extrapolation and future predictions. Note that somtimes the training data set is further split into a validation data set and we will cover this in more detail next week when we discuss hyperparamter tuning.\n",
    "\n",
    "After the data set is split, the training set is used to to train the machine learning model (i.e. used to find the optimized values of the model's parameters). After the model is trained, the test data set (which the model has never seen before) is used to test its performance. The input component of the test set is passed to the trained model to generate a predicted data set.  This predicted data set is then compared to the true test data set using both graphs (for visually analysis) and numerical error metrics such as the mean-squared error or the R2-score.\n",
    "\n",
    "Finally, if you are unhappy with the results from your machine learning model you can make changes and retry. Some things you can do is reformat the data, perform feature engineering on the data (only passing selected parts of the input data instead of the entire input data set), changing the parameters of the model (discussed next week as well), or even changing the entire machine learning algorithm to a different algorithm that may work better with the data set. \n",
    "\n",
    "Chapter 2 of the textbook *Hands-On Machine Learning* has a detailed walkthrough to the machine learning workflow using a famous machine learning data set called the \"Boston Housing Market\" data set. The slides for this week walk through the machine learning workflow with another famous data set called the \"Diabetes\" data set. Finally, appendix B of *Hands-On Machine Learning* has a checklist for all of the steps in the machine learning workflow, broken down into small pieces. This checklist will be helpful for you has you start thinking about the data set and problem you want to use for your final project."
   ]
  },
  {
   "cell_type": "code",
   "execution_count": null,
   "id": "cf2d8d91-af8d-4836-83c2-0cea4d817b36",
   "metadata": {},
   "outputs": [],
   "source": []
  }
 ],
 "metadata": {
  "kernelspec": {
   "display_name": "Python 3 (ipykernel)",
   "language": "python",
   "name": "python3"
  },
  "language_info": {
   "codemirror_mode": {
    "name": "ipython",
    "version": 3
   },
   "file_extension": ".py",
   "mimetype": "text/x-python",
   "name": "python",
   "nbconvert_exporter": "python",
   "pygments_lexer": "ipython3",
   "version": "3.9.6"
  }
 },
 "nbformat": 4,
 "nbformat_minor": 5
}