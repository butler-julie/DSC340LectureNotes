{
 "cells": [
  {
   "cell_type": "markdown",
   "id": "21704765-94e5-44dd-a279-7b29e30abaee",
   "metadata": {},
   "source": [
    "# Creating Neural Networks with Tensorflow\n",
    "\n",
    "CSC/DSC 340 Week 8 Slides\n",
    "\n",
    "Author: [Dr. Julie Butler](www.juliebutler.org)\n",
    "\n",
    "Date Created: October 6, 2023\n",
    "\n",
    "Last Modified: October 6, 2023"
   ]
  },
  {
   "cell_type": "markdown",
   "id": "16721f4d-da25-4b4f-aecb-1267f937b870",
   "metadata": {},
   "source": [
    "## Keras and Tensorflow\n",
    "* Keras and Tensorflow use to be seperate libraries but Keras is now apart of Tensorflow\n",
    "* In recent versions of Tensorflow, it has become hard to create and use neural networks without also using Keras\n",
    "* However, there are a few features that are still useful"
   ]
  },
  {
   "cell_type": "markdown",
   "id": "b35a3df4-3ae0-4e80-bbf8-cca31aa3d0af",
   "metadata": {},
   "source": [
    "## Keras Neural Network With New Data Set\n",
    "* MNIST Data Set\n",
    "    * Input: images of handwritten digits (28x28 pixels)\n",
    "    * Output: digit shown in the image\n",
    "* We will go into more detail on image manipulation and classification when we cover neural networks, but we can do a preliminary analysis on the MNIST data set with regular neural networks."
   ]
  },
  {
   "cell_type": "code",
   "execution_count": 1,
   "id": "d0637e95-2692-4fd8-94ef-c2213251af99",
   "metadata": {},
   "outputs": [
    {
     "name": "stderr",
     "output_type": "stream",
     "text": [
      "/Users/butlerju/Library/Python/3.9/lib/python/site-packages/urllib3/__init__.py:34: NotOpenSSLWarning: urllib3 v2.0 only supports OpenSSL 1.1.1+, currently the 'ssl' module is compiled with 'LibreSSL 2.8.3'. See: https://github.com/urllib3/urllib3/issues/3020\n",
      "  warnings.warn(\n"
     ]
    }
   ],
   "source": [
    "import matplotlib.pyplot as plt\n",
    "from tensorflow.keras.datasets import mnist\n",
    "\n",
    "## NOTE: The same data set is avaliable from Scikit-Learn"
   ]
  },
  {
   "cell_type": "code",
   "execution_count": 2,
   "id": "5db4b2a3-db39-495d-a91b-7e23de0d2765",
   "metadata": {},
   "outputs": [],
   "source": [
    "(train_images, train_labels), (test_images, test_labels) = mnist.load_data()"
   ]
  },
  {
   "cell_type": "code",
   "execution_count": 3,
   "id": "aff79de6-7083-4f02-aa1b-03c84a02fe42",
   "metadata": {},
   "outputs": [
    {
     "name": "stdout",
     "output_type": "stream",
     "text": [
      "60000\n"
     ]
    }
   ],
   "source": [
    "print(len(train_images))"
   ]
  },
  {
   "cell_type": "code",
   "execution_count": 4,
   "id": "6e4e0622-e83f-441e-830f-57bac166963c",
   "metadata": {},
   "outputs": [
    {
     "data": {
      "image/png": "[encoded data removed]",
      "text/plain": [
       "<Figure size 1200x400 with 5 Axes>"
      ]
     },
     "metadata": {},
     "output_type": "display_data"
    }
   ],
   "source": [
    "# Display a few sample images\n",
    "num_samples = 5  # Change this to display a different number of images\n",
    "\n",
    "plt.figure(figsize=(12, 4))\n",
    "\n",
    "for i in range(num_samples):\n",
    "    plt.subplot(1, num_samples, i + 1)\n",
    "    plt.imshow(train_images[i], cmap='gray')\n",
    "    plt.title(f\"Label: {train_labels[i]}\")\n",
    "\n",
    "plt.show()"
   ]
  },
  {
   "cell_type": "code",
   "execution_count": 5,
   "id": "d6b80dce-bfa2-4533-9678-b644e2ee3729",
   "metadata": {},
   "outputs": [],
   "source": [
    "import numpy as np\n",
    "import tensorflow as tf\n",
    "from tensorflow.keras.datasets import mnist\n",
    "from tensorflow.keras.models import Sequential\n",
    "from tensorflow.keras.layers import Dense\n",
    "from tensorflow.keras.utils import to_categorical"
   ]
  },
  {
   "cell_type": "code",
   "execution_count": 6,
   "id": "18c51cbf-ce12-457b-9492-e28b244d881b",
   "metadata": {},
   "outputs": [],
   "source": [
    "# Normalize pixel values to be between 0 and 1\n",
    "train_images, test_images = train_images / 255.0, test_images / 255.0"
   ]
  },
  {
   "cell_type": "code",
   "execution_count": 7,
   "id": "20fae737-632f-4052-b398-c571f74a5f86",
   "metadata": {},
   "outputs": [],
   "source": [
    "# One-hot encode the labels\n",
    "train_labels = to_categorical(train_labels)\n",
    "test_labels = to_categorical(test_labels)"
   ]
  },
  {
   "cell_type": "code",
   "execution_count": 8,
   "id": "2cb558a7-38fe-414c-a8dd-b3e3de81b5ba",
   "metadata": {},
   "outputs": [
    {
     "data": {
      "text/plain": [
       "(28, 28)"
      ]
     },
     "execution_count": 8,
     "metadata": {},
     "output_type": "execute_result"
    }
   ],
   "source": [
    "np.shape(train_images[i])"
   ]
  },
  {
   "cell_type": "code",
   "execution_count": 9,
   "id": "e5c1df6c-94d2-43f7-ba29-3ba97f53065c",
   "metadata": {},
   "outputs": [],
   "source": [
    "def mnist_classification_model ():\n",
    "    # Define the model\n",
    "    model = Sequential()\n",
    "\n",
    "    # Add layers to the model\n",
    "    model.add(Flatten(input_shape=(28, 28)))  # Flatten the 28x28 input images to a 1D vector\n",
    "    model.add(Dense(128, activation='relu'))  # Fully connected layer with ReLU activation\n",
    "    model.add(Dense(64, activation='relu'))   # Another fully connected layer with ReLU activation\n",
    "    model.add(Dense(10, activation='softmax')) # Output layer with 10 neurons for 10 classes (digits 0-9)\n",
    "    \n",
    "    # Compile the model\n",
    "    model.compile(optimizer='adam', loss='categorical_crossentropy', metrics=['accuracy'])\n",
    "    return model"
   ]
  },
  {
   "cell_type": "code",
   "execution_count": 10,
   "id": "bdb86dce-5838-4477-8b04-8cf700223891",
   "metadata": {},
   "outputs": [
    {
     "ename": "NameError",
     "evalue": "name 'Flatten' is not defined",
     "output_type": "error",
     "traceback": [
      "\u001b[0;31m---------------------------------------------------------------------------\u001b[0m",
      "\u001b[0;31mNameError\u001b[0m                                 Traceback (most recent call last)",
      "Cell \u001b[0;32mIn[10], line 1\u001b[0m\n\u001b[0;32m----> 1\u001b[0m mnist_model \u001b[38;5;241m=\u001b[39m \u001b[43mmnist_classification_model\u001b[49m\u001b[43m \u001b[49m\u001b[43m(\u001b[49m\u001b[43m)\u001b[49m\n",
      "Cell \u001b[0;32mIn[9], line 6\u001b[0m, in \u001b[0;36mmnist_classification_model\u001b[0;34m()\u001b[0m\n\u001b[1;32m      3\u001b[0m model \u001b[38;5;241m=\u001b[39m Sequential()\n\u001b[1;32m      5\u001b[0m \u001b[38;5;66;03m# Add layers to the model\u001b[39;00m\n\u001b[0;32m----> 6\u001b[0m model\u001b[38;5;241m.\u001b[39madd(\u001b[43mFlatten\u001b[49m(input_shape\u001b[38;5;241m=\u001b[39m(\u001b[38;5;241m28\u001b[39m, \u001b[38;5;241m28\u001b[39m)))  \u001b[38;5;66;03m# Flatten the 28x28 input images to a 1D vector\u001b[39;00m\n\u001b[1;32m      7\u001b[0m model\u001b[38;5;241m.\u001b[39madd(Dense(\u001b[38;5;241m128\u001b[39m, activation\u001b[38;5;241m=\u001b[39m\u001b[38;5;124m'\u001b[39m\u001b[38;5;124mrelu\u001b[39m\u001b[38;5;124m'\u001b[39m))  \u001b[38;5;66;03m# Fully connected layer with ReLU activation\u001b[39;00m\n\u001b[1;32m      8\u001b[0m model\u001b[38;5;241m.\u001b[39madd(Dense(\u001b[38;5;241m64\u001b[39m, activation\u001b[38;5;241m=\u001b[39m\u001b[38;5;124m'\u001b[39m\u001b[38;5;124mrelu\u001b[39m\u001b[38;5;124m'\u001b[39m))   \u001b[38;5;66;03m# Another fully connected layer with ReLU activation\u001b[39;00m\n",
      "\u001b[0;31mNameError\u001b[0m: name 'Flatten' is not defined"
     ]
    }
   ],
   "source": [
    "mnist_model = mnist_classification_model ()"
   ]
  },
  {
   "cell_type": "code",
   "execution_count": 41,
   "id": "ee2ffb3e-d537-428d-8ad3-39e533862b9b",
   "metadata": {},
   "outputs": [
    {
     "name": "stdout",
     "output_type": "stream",
     "text": [
      "Epoch 1/10\n",
      "1500/1500 [==============================] - 1s 835us/step - loss: 0.0065 - accuracy: 0.9980 - val_loss: 0.1808 - val_accuracy: 0.9755\n",
      "Epoch 2/10\n",
      "1500/1500 [==============================] - 1s 828us/step - loss: 0.0098 - accuracy: 0.9969 - val_loss: 0.1679 - val_accuracy: 0.9751\n",
      "Epoch 3/10\n",
      "1500/1500 [==============================] - 1s 810us/step - loss: 0.0079 - accuracy: 0.9975 - val_loss: 0.1697 - val_accuracy: 0.9745\n",
      "Epoch 4/10\n",
      "1500/1500 [==============================] - 1s 808us/step - loss: 0.0059 - accuracy: 0.9982 - val_loss: 0.1896 - val_accuracy: 0.9735\n",
      "Epoch 5/10\n",
      "1500/1500 [==============================] - 1s 805us/step - loss: 0.0112 - accuracy: 0.9965 - val_loss: 0.1665 - val_accuracy: 0.9784\n",
      "Epoch 6/10\n",
      "1500/1500 [==============================] - 1s 808us/step - loss: 0.0052 - accuracy: 0.9983 - val_loss: 0.1901 - val_accuracy: 0.9747\n",
      "Epoch 7/10\n",
      "1500/1500 [==============================] - 1s 874us/step - loss: 0.0094 - accuracy: 0.9973 - val_loss: 0.1842 - val_accuracy: 0.9757\n",
      "Epoch 8/10\n",
      "1500/1500 [==============================] - 1s 857us/step - loss: 0.0063 - accuracy: 0.9982 - val_loss: 0.2077 - val_accuracy: 0.9749\n",
      "Epoch 9/10\n",
      "1500/1500 [==============================] - 1s 809us/step - loss: 0.0072 - accuracy: 0.9976 - val_loss: 0.1842 - val_accuracy: 0.9770\n",
      "Epoch 10/10\n",
      "1500/1500 [==============================] - 1s 838us/step - loss: 0.0053 - accuracy: 0.9984 - val_loss: 0.1975 - val_accuracy: 0.9758\n"
     ]
    }
   ],
   "source": [
    "history = mnist_model.fit(train_images, train_labels, epochs=10, batch_size=32, validation_split=0.2, verbose=1)"
   ]
  },
  {
   "cell_type": "code",
   "execution_count": 43,
   "id": "856e3a72-07ec-4fd8-982f-4dc3f5cdccc1",
   "metadata": {},
   "outputs": [
    {
     "name": "stdout",
     "output_type": "stream",
     "text": [
      "313/313 [==============================] - 0s 464us/step - loss: 0.0953 - accuracy: 0.9721\n",
      "Test accuracy: 97.21%\n"
     ]
    }
   ],
   "source": [
    "# Evaluate the model on the test data\n",
    "test_loss, test_accuracy = model.evaluate(test_images, test_labels)\n",
    "print(f\"Test accuracy: {test_accuracy * 100:.2f}%\")"
   ]
  },
  {
   "cell_type": "code",
   "execution_count": 45,
   "id": "8fc1c5ba-940c-4d16-bc7b-59083b869c5a",
   "metadata": {},
   "outputs": [
    {
     "data": {
      "image/png": "[encoded data removed]",
      "text/plain": [
       "<Figure size 640x480 with 1 Axes>"
      ]
     },
     "metadata": {},
     "output_type": "display_data"
    }
   ],
   "source": [
    "# summarize history for accuracy\n",
    "plt.plot(history.history['accuracy'])\n",
    "plt.plot(history.history['val_accuracy'])\n",
    "plt.title('model accuracy')\n",
    "plt.ylabel('accuracy')\n",
    "plt.xlabel('epoch')\n",
    "plt.legend(['train', 'validation'], loc='upper left')\n",
    "plt.show()"
   ]
  },
  {
   "cell_type": "markdown",
   "id": "02ae553c-1307-4c80-8c58-ead14250e9f5",
   "metadata": {},
   "source": [
    "## Custom Loss Functions"
   ]
  },
  {
   "cell_type": "markdown",
   "id": "4ec6fbd7-7ae4-4417-ba24-f0f0892c5498",
   "metadata": {},
   "source": [
    "## Tensorflow Variables"
   ]
  },
  {
   "cell_type": "markdown",
   "id": "826328ad-3729-4eda-97c4-c4136a2bc018",
   "metadata": {},
   "source": [
    "## GPU Support"
   ]
  },
  {
   "cell_type": "markdown",
   "id": "3f467cb9-e630-4d3a-84cf-b654d5212a31",
   "metadata": {},
   "source": [
    "## Preprocessing Layers"
   ]
  },
  {
   "cell_type": "markdown",
   "id": "21e67b99-f1d5-4538-9a3c-620ed5a6b96c",
   "metadata": {},
   "source": [
    "### Flatten Layer"
   ]
  },
  {
   "cell_type": "markdown",
   "id": "7878f250-4133-4347-b620-e80ea6b8f7e3",
   "metadata": {},
   "source": [
    "### Normalization Layer"
   ]
  },
  {
   "cell_type": "markdown",
   "id": "b759ebdc-7b50-4bd9-94ac-8dd38466476f",
   "metadata": {},
   "source": [
    "### CategoryEncoding Layer"
   ]
  },
  {
   "cell_type": "markdown",
   "id": "5c536e1f-36ab-46e7-85a3-d5ab51392bd1",
   "metadata": {},
   "source": [
    "### Image Preprocessing Layers"
   ]
  },
  {
   "cell_type": "markdown",
   "id": "462be859-47bc-41f0-b434-0e5de8287507",
   "metadata": {},
   "source": [
    "## Saving Trained Models"
   ]
  },
  {
   "cell_type": "markdown",
   "id": "2b1e0c65-9933-48fe-8a41-8fb449592592",
   "metadata": {},
   "source": [
    "## Other Tensorflow Customizations\n",
    "\n",
    "Tensorflow offers many other customizations besides the ones discussed here:\n",
    "* Custom Activation Functions\n",
    "* Custom Initialization Schemes\n",
    "* Custom Layers\n",
    "* Custom Training Loops\n",
    "\n",
    "These are unlikely to be used in this course, but are good to know about for the future"
   ]
  },
  {
   "cell_type": "code",
   "execution_count": null,
   "id": "7613b433-6b9f-45b3-b22b-71639769c751",
   "metadata": {},
   "outputs": [],
   "source": []
  }
 ],
 "metadata": {
  "kernelspec": {
   "display_name": "Python 3 (ipykernel)",
   "language": "python",
   "name": "python3"
  },
  "language_info": {
   "codemirror_mode": {
    "name": "ipython",
    "version": 3
   },
   "file_extension": ".py",
   "mimetype": "text/x-python",
   "name": "python",
   "nbconvert_exporter": "python",
   "pygments_lexer": "ipython3",
   "version": "3.9.6"
  }
 },
 "nbformat": 4,
 "nbformat_minor": 5
}