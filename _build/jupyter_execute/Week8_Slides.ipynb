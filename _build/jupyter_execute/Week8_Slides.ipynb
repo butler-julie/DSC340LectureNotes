{
 "cells": [
  {
   "cell_type": "markdown",
   "id": "21704765-94e5-44dd-a279-7b29e30abaee",
   "metadata": {},
   "source": [
    "# Creating Neural Networks with Tensorflow"
   ]
  },
  {
   "cell_type": "code",
   "execution_count": null,
   "id": "26838f3c-5e6f-4179-8dce-74884fbc49d7",
   "metadata": {},
   "outputs": [],
   "source": []
  }
 ],
 "metadata": {
  "kernelspec": {
   "display_name": "Python 3 (ipykernel)",
   "language": "python",
   "name": "python3"
  },
  "language_info": {
   "codemirror_mode": {
    "name": "ipython",
    "version": 3
   },
   "file_extension": ".py",
   "mimetype": "text/x-python",
   "name": "python",
   "nbconvert_exporter": "python",
   "pygments_lexer": "ipython3",
   "version": "3.9.6"
  }
 },
 "nbformat": 4,
 "nbformat_minor": 5
}