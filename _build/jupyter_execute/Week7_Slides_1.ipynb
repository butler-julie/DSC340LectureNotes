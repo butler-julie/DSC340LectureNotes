{
 "cells": [
  {
   "cell_type": "markdown",
   "id": "1d9590d2-d3f5-42bd-81fb-0276f385f875",
   "metadata": {},
   "source": [
    "# A Conceptual and Mathematical Introduction to Neural Networks\n",
    "\n",
    "CSC/DSC 340 Week 7 Slides (Part 1)\n",
    "\n",
    "Author: [Dr. Julie Butler](www.juliebutler.org)\n",
    "\n",
    "Date Created: September 26, 2023\n",
    "\n",
    "Last Modified: September 26, 2023"
   ]
  },
  {
   "cell_type": "markdown",
   "id": "c23ee923-e794-4ac1-8e92-49121998d4d8",
   "metadata": {},
   "source": [
    "## Review of Material Covered So Far\n",
    "\n",
    "## Conceptual Neural Network\n",
    "\n",
    "### Neuron/Node\n",
    "\n",
    "### Layers\n",
    "\n",
    "### Input Layer\n",
    "\n",
    "### Output Layer\n",
    "\n",
    "### Hidden Layers\n",
    "\n",
    "### Fully Connected\n",
    "\n",
    "### Feedforward\n",
    "\n",
    "### Loss Function\n",
    "\n",
    "### Backpropagation\n",
    "\n",
    "## Neural Network Mathematics\n",
    "\n",
    "### Linear Neuron (Weights and Biases)\n",
    "\n",
    "### Activation Function\n",
    "\n",
    "### Mathematics for First Hidden Layer\n",
    "\n",
    "### Mathematics for Second Hidden Layer\n",
    "\n",
    "### Mathematics for Loss Functions\n",
    "\n",
    "#### Regression Loss Functions\n",
    "\n",
    "#### Classification Loss Functions\n",
    "\n",
    "### Backpropagation and Optimization\n",
    "\n",
    "#### Choice of Optimizer\n",
    "\n",
    "#### Learning Rate\n",
    "\n",
    "## Neural Network Hyperparameters\n",
    "\n",
    "### Loss and Activation Functions\n",
    "\n",
    "### Architecture (Neurons and Layers)\n",
    "\n",
    "### Learning Rate\n",
    "\n",
    "### Others\n",
    "\n",
    "## Other Details\n",
    "\n",
    "### Training Process and Iterations\n",
    "\n",
    "### Overfitting and Underfitting\n",
    "\n",
    "### Training Error Versus Test Error"
   ]
  },
  {
   "cell_type": "code",
   "execution_count": null,
   "id": "b32873b4-d4d9-42f9-bb7f-b8f1f8cee879",
   "metadata": {},
   "outputs": [],
   "source": []
  }
 ],
 "metadata": {
  "kernelspec": {
   "display_name": "Python 3 (ipykernel)",
   "language": "python",
   "name": "python3"
  },
  "language_info": {
   "codemirror_mode": {
    "name": "ipython",
    "version": 3
   },
   "file_extension": ".py",
   "mimetype": "text/x-python",
   "name": "python",
   "nbconvert_exporter": "python",
   "pygments_lexer": "ipython3",
   "version": "3.9.6"
  }
 },
 "nbformat": 4,
 "nbformat_minor": 5
}