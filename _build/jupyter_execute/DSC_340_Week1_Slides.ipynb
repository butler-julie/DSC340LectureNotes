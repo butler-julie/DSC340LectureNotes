{
 "cells": [
  {
   "cell_type": "markdown",
   "id": "05142643",
   "metadata": {
    "slideshow": {
     "slide_type": "slide"
    }
   },
   "source": [
    "# DSC 340 Week 1: Introduction to Machine Learning\n",
    "\n",
    "[Dr. Julie Butler](juliebutler.org)\n",
    "\n",
    "DATE: TBD\n",
    "\n"
   ]
  },
  {
   "cell_type": "markdown",
   "id": "122fae9a",
   "metadata": {
    "slideshow": {
     "slide_type": "slide"
    }
   },
   "source": [
    "## Plans for the Week\n",
    "\n",
    "### Monday\n",
    "* Introduction to the Course\n",
    "* Begin \"What is Machine Learning?\"\n",
    "\n",
    "### Wednesday \n",
    "* Finish \"What is Machine Learning?\"\n",
    "* Begin In-Class Project: Mathematical Crash Course with Python\n",
    "* Suggested Reading: *Hands-On Machine Learning* Chapter 1\n",
    "\n",
    "### Friday\n",
    "* In-Class Project: Mathematical Crash Course with Python\n",
    "\n"
   ]
  },
  {
   "cell_type": "markdown",
   "id": "988f0d91",
   "metadata": {
    "slideshow": {
     "slide_type": "slide"
    }
   },
   "source": [
    "## Course Information \n",
    "* Course Meetings: MWF 8:45am - 9:50am\n",
    "* Room: TBD\n",
    "* Syllabus: [juliebutler.org/dsc340](juliebutler.org/dsc340) and on D2L\n",
    "\n",
    "## Instructor Information\n",
    "* Dr. Julie Butler\n",
    "* Email: TBD\n",
    "* Office: Bracy 107\n",
    "* Office Hours: Monday 12:30pm-3pm, Tuesday 3:30pm-6pm, and by appointment\n",
    "\n"
   ]
  },
  {
   "cell_type": "markdown",
   "id": "a005f45c",
   "metadata": {
    "slideshow": {
     "slide_type": "slide"
    }
   },
   "source": [
    "## General Weekly Schedule\n",
    "\n",
    "### Monday \n",
    "* Introduction to new material with lecture and some guided examples\n",
    "* Office Hours: 12:30pm - 3pm\n",
    "* Pre-class homework due before class\n",
    "* In-class project from previous week due before class\n",
    "\n",
    "### Tuesday \n",
    "* Office Hours 3:30pm - 6pm\n",
    "\n",
    "\n",
    "### Wednesday \n",
    "* Finish lecture material\n",
    "* Begin weekly in-class project individually or in groups up to three people\n",
    "* Post-class homework from previous week due before class\n",
    "\n",
    "### Thursday \n",
    "* Pre-class homework for next week released\n",
    "\n",
    "### Friday \n",
    "* Finish weekly in-class project\n",
    "* Post-class homework released\n",
    "\n"
   ]
  },
  {
   "cell_type": "markdown",
   "id": "077aabf1",
   "metadata": {
    "slideshow": {
     "slide_type": "slide"
    }
   },
   "source": [
    "## Topics Covered (By Week)\n",
    "1. What is machine learning?; Mathematics Crash Course\n",
    "2. Introduction to Machine Learning with Linear Regression\n",
    "3. Ridge and LASSO Regression for Regression\n",
    "4. Ridge and LASSO Regression for Classification\n",
    "5. Support Vector Machines (SVMs) for Classification and Regression\n",
    "6. Unsupervised Learning: Clustering and Dimensionality Reduction\n",
    "7. Introduction to Neural Networks with Keras\n",
    "8. Introduction to Neural Networks with Tensorflow\n",
    "9. Introduction to Neural Networks with Jax\n",
    "10. Convolutional Neural Networks for Image Classification Part 1\n",
    "11. Convoluional Neural Networks for Image Classification Part 2\n",
    "12. Recurrent Neural Networks for Time Series Analysis\n",
    "13. Closing Remarks and Work on Final Projects\n",
    "14. Final Project Presentations\n",
    "\n"
   ]
  },
  {
   "cell_type": "markdown",
   "id": "4c532d3d",
   "metadata": {
    "slideshow": {
     "slide_type": "slide"
    }
   },
   "source": [
    "## Grading Policy \n",
    "- Pre-class Homework: 10%\n",
    "- In-Class Projects: 20%\n",
    "- Post-Class Homework: 30%\n",
    "- Final Project: 40%\n",
    "\n",
    "Lowest two scores will be dropped from pre-class homework, in-class projects, and post-class homework (6 scores dropped in total)\n",
    "\n",
    "Assignments that are not turned in will recieve a zero\n",
    "\n"
   ]
  },
  {
   "cell_type": "markdown",
   "id": "58cf7591",
   "metadata": {
    "slideshow": {
     "slide_type": "slide"
    }
   },
   "source": [
    "## Pre-Class Homework\n",
    "* Short assigments to introduce concepts before the lecture\n",
    "* Will include some reading assigments, some conceptual questions, and some programming questions\n",
    "* Should take aroound 1.5 hours to complete\n",
    "* Pre-class homeworks are released on Thursday the week before they are due.  They are due on Mondays at the start of class."
   ]
  },
  {
   "cell_type": "markdown",
   "id": "0621d82e",
   "metadata": {
    "slideshow": {
     "slide_type": "slide"
    }
   },
   "source": [
    "## In-Class Projects\n",
    "* In-class projects will be worked on during class on Wednesdays (if lecture is complete) and Fridays.\n",
    "* They can be completed after class on Friday if needed.  They are due before class on Monday the week after they are assigned.\n",
    "* Should take less 2 hours to complete and will allow you to explore the concepts learned in lecture with actual machine learning examples."
   ]
  },
  {
   "cell_type": "markdown",
   "id": "e3888b57",
   "metadata": {},
   "source": [
    "## Post-Class Homework\n",
    "* Post-class homework assignments are released at the end of class on Friday and are due at the start of class on the following Wednesday.\n",
    "* Longer and more in-depth machine learning problems, should take around 3 hours to complete"
   ]
  },
  {
   "cell_type": "markdown",
   "id": "1a86fd72",
   "metadata": {
    "slideshow": {
     "slide_type": "slide"
    }
   },
   "source": [
    "## Final Project \n",
    "The final project will consist of two components: a 10 minute presentation given during the last week of the course and a report written in the style of a scientific paper due the last day of this course.\n",
    "\n",
    "Small pieces of the final project are due throughout the semester, and a complete list of expectations can be found at the below website.\n",
    "\n",
    "Any topic and machine learning algorithm are valid for this project but the proposed project must have sufficient complexity and be unique (different from other works found online).\n",
    "\n",
    "You can complete this project individually or in groups up to size three.  If you are working in groups, it is expected that each member contributes equally.\n",
    "\n",
    "More details: [juliebutler.org/DSC340/finalproject](www.juliebutler.org/DSC340/finalproject)\n",
    "\n"
   ]
  },
  {
   "cell_type": "markdown",
   "id": "b8156e96",
   "metadata": {
    "slideshow": {
     "slide_type": "slide"
    }
   },
   "source": [
    "## Late Work Policy \n",
    "Everyone has 10 late days that they can apply to turning in any pre-class homework, in-class project, or post-class homework.  You can apply as many days as you want but you only get 10 late days in total for the entire semester.  You must email me if you plan on using the late days and how many.\n",
    "\n",
    "Example, you can apply 2 late days to pre-class homework #3, so you turn it in on Wednesday instead of Monday.  You now have 8 late days remaining to use on other assignments.\n",
    "\n",
    "Other extensions will not be given on assignments and late work will not be accepted EXCEPT in very special circumstances (talk to me).\n",
    "\n",
    "Note, late days cannot be used on turning in the final report or the final presentation.\n",
    "\n"
   ]
  },
  {
   "cell_type": "markdown",
   "id": "09617223",
   "metadata": {
    "slideshow": {
     "slide_type": "slide"
    }
   },
   "source": [
    "## Group Work Policy\n",
    "Working on assignments in groups is allowed and encouraged in the course.  Group size must be limited to three people however.  For assignments that you complete in a group, the same assignment can be submitted by all group members.  Everyone must submit the assignment and it must contain everyone's names.\n",
    "\n",
    "Working in groups implies that everyone in the group is contributing equally.  If this becomes a problem, I reserve the right to restructure or disband certain groups.\n",
    "\n"
   ]
  },
  {
   "cell_type": "markdown",
   "id": "a9722719",
   "metadata": {
    "slideshow": {
     "slide_type": "slide"
    }
   },
   "source": [
    "## Technology Requirements \n",
    "A laptop or other device with an internet connection is required in every class period and to complete all out of class assignments.  All assignments will be completed on Google's Colab, a cloud based Python notebook computing environment which has all libraies needed for this class pre-installed.\n",
    "\n"
   ]
  },
  {
   "cell_type": "markdown",
   "id": "3e7c0b20",
   "metadata": {
    "slideshow": {
     "slide_type": "slide"
    }
   },
   "source": [
    "## Assignment Submission\n",
    "Assignments will be submitted through the course's D2L page.  For notebook submittions, please submit a \"View\" link to your Google Colab notebook.  Details on getting this link can be found in the syllabus.\n",
    "\n"
   ]
  },
  {
   "cell_type": "markdown",
   "id": "93eef701",
   "metadata": {
    "slideshow": {
     "slide_type": "slide"
    }
   },
   "source": [
    "## Important Resources \n",
    "* Course Website: [juliebutler.org/DSC340](www.juliebutler.org/DSC340)\n",
    "* Assignments are turned in on D2L page\n",
    "* Course Slack, invitation in weekly email\n",
    "* Textbook: *Hands-On Machine Learning, 3rd ed.*\n",
    "* Additional readings and resources will be provided throughout the course\n",
    "* All assignments will be completed in [Google Colab](https://colab.research.google.com)\n",
    "\n"
   ]
  },
  {
   "cell_type": "markdown",
   "id": "f7184355",
   "metadata": {
    "slideshow": {
     "slide_type": "slide"
    }
   },
   "source": [
    "## Providing Feedback\n",
    "\n",
    "[Annoymous Feedback Form](https://docs.google.com/forms/d/e/1FAIpQLSfYrE_mdlmqkfnVuImoCDFfh39Aw-zR1TBGLDplna6M5nXdkg/viewform?usp=sf_link)\n",
    "\n"
   ]
  },
  {
   "cell_type": "markdown",
   "id": "00f4bed6",
   "metadata": {
    "slideshow": {
     "slide_type": "slide"
    }
   },
   "source": [
    "# Questions?"
   ]
  },
  {
   "cell_type": "markdown",
   "id": "fbfaa822",
   "metadata": {
    "slideshow": {
     "slide_type": "slide"
    }
   },
   "source": [
    "# What is Machine Learning?\n",
    "\n"
   ]
  },
  {
   "cell_type": "markdown",
   "id": "ab30d4b7",
   "metadata": {
    "slideshow": {
     "slide_type": "slide"
    }
   },
   "source": [
    "##  What is Machine Learning?\n",
    "* There has been much recent interest in machine learning and artifical intelligence (ChatGTP, self-driving cars, etc.) but generally not a good explantion of what it is.\n",
    "* Machine learning is the field that occurs at artificial intelligence and data science; it is a collection of programs that learn from given data"
   ]
  },
  {
   "cell_type": "markdown",
   "id": "48e68553",
   "metadata": {
    "slideshow": {
     "slide_type": "slide"
    }
   },
   "source": [
    "## When is Machine Learning Useful?\n",
    "* Large datsets\n",
    "* Datasets with unknown patterns\n",
    "* Image and video analysis\n",
    "* Text processing (Natural Language Processing)\n",
    "* Predicting future values"
   ]
  },
  {
   "cell_type": "markdown",
   "id": "2b8acb87",
   "metadata": {
    "slideshow": {
     "slide_type": "slide"
    }
   },
   "source": [
    "## The Machine Learning Workflow\n",
    "\n",
    "1. Importing your data set and formatting it\n",
    "2. Splitting the data into a training set and a test set\n",
    "3. Training your machine learning model with the training set\n",
    "4. Evaluate the trained model's performance with the test set\n",
    "5. (Optional) Make improvements to your model to increase its performance\n",
    "\n"
   ]
  },
  {
   "cell_type": "markdown",
   "id": "51ce961b",
   "metadata": {
    "slideshow": {
     "slide_type": "slide"
    }
   },
   "source": [
    "## Types of Machine Learning\n",
    "* Machine learning algorithms are classified on what kind of data they take\n",
    "* Data sets have two components:\n",
    "    - X: the inputs or the independent variables; features\n",
    "    - y: the outputs or the dependent variables; labels"
   ]
  },
  {
   "cell_type": "markdown",
   "id": "731b5ec7",
   "metadata": {
    "slideshow": {
     "slide_type": "slide"
    }
   },
   "source": [
    "## Supervised Learning\n",
    "* Takes labelled data (i.e. both X and y) and learns the pattern between the features and the labels\n",
    "* Two types of supervised learning based on the task\n",
    "    - Classification\n",
    "        * Sorting inputs into a set number of categories\n",
    "        * Ex: Given a picture, determine if the picture shows a cat or a dog (two categories)\n",
    "    - Regression\n",
    "        * Infinite number of possible outputs\n",
    "        * Approximating a function f such that $f(X) \\approx y$\n",
    "        * Ex: Given some information on a house, what price should it sale for?\n",
    "* Examples: k-nearest neighbors, linear regression, support vector machines, neural networks"
   ]
  },
  {
   "cell_type": "markdown",
   "id": "9de19f27",
   "metadata": {
    "slideshow": {
     "slide_type": "slide"
    }
   },
   "source": [
    "## Unsupervised Learning\n",
    "* Learn patterns from unlabelled data (i.e. its given only X)\n",
    "* Can also be roughly split into two categories depending on the task\n",
    "    * Clustering\n",
    "        * Unsupervised version of classification\n",
    "        * How many categories can the data be split into?\n",
    "        * Given information of a bunch of different iris flowers, how many species are present?\n",
    "    * Dimensionality Reduction\n",
    "        * Reduces the number of features by combining similar features\n",
    "        * When trying to determine if a person is at risk for diabetes you are given 8 measures of a person's health.  Can the total number of features be reduced by combining similar ones?\n",
    "        * Supervised algrithms may perform better on data sets with many features if dimensionality reduction is preform first\n",
    "* Ex: principal component analysis (PCA), k-means, and heirarchical cluster analysis (HCA)"
   ]
  },
  {
   "cell_type": "markdown",
   "id": "fcef0eb1",
   "metadata": {
    "slideshow": {
     "slide_type": "slide"
    }
   },
   "source": [
    "## Semisupervised Learning\n",
    "* Most data is unlabelled but some is labelled\n",
    "* Not always considered a separate type of machine learning\n",
    "* Ex: Photo apps will identify and group faces together, you have to provide the names of each person"
   ]
  },
  {
   "cell_type": "markdown",
   "id": "1d2c6260",
   "metadata": {
    "slideshow": {
     "slide_type": "slide"
    }
   },
   "source": [
    "## Reinforcement Learning\n",
    "* Based around an agent that learns to perform a task by maximizing a reward\n",
    "* Common in fields such as robotics"
   ]
  },
  {
   "cell_type": "markdown",
   "id": "ac6873ce",
   "metadata": {
    "slideshow": {
     "slide_type": "slide"
    }
   },
   "source": [
    "## Offline vs. Online Learning\n",
    "* Offline Learning\n",
    "    - All training data is given to the algorithm at once to train\n",
    "    - If new data is added to the training set, need to entirely retrain with the old and the new data\n",
    "* Online Learning\n",
    "    - Training data can be given in batches at any time, online algorithms can improve themselves at any time if given new data\n",
    "* Most algorithms in this class will use offline learning, but online learning does have advantages when it comes to memory"
   ]
  },
  {
   "cell_type": "markdown",
   "id": "de0a4042",
   "metadata": {
    "slideshow": {
     "slide_type": "slide"
    }
   },
   "source": [
    "## Challenges of Machine Learning\n",
    "\n",
    "### Problems with Data Sets\n",
    "* Small training sets\n",
    "* Poor quality data\n",
    "* Too many features or irrelevant features\n",
    "* Overfitting or underfitting\n",
    "\n",
    "### Computational Limitations\n",
    "* Memory (RAM)\n",
    "* Lack of GPUs and computing clusters"
   ]
  }
 ],
 "metadata": {
  "celltoolbar": "Slideshow",
  "kernelspec": {
   "display_name": "Python 3 (ipykernel)",
   "language": "python",
   "name": "python3"
  },
  "language_info": {
   "codemirror_mode": {
    "name": "ipython",
    "version": 3
   },
   "file_extension": ".py",
   "mimetype": "text/x-python",
   "name": "python",
   "nbconvert_exporter": "python",
   "pygments_lexer": "ipython3",
   "version": "3.11.4"
  }
 },
 "nbformat": 4,
 "nbformat_minor": 5
}