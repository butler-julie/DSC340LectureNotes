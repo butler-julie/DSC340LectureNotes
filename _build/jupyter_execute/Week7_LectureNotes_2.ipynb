{
 "cells": [
  {
   "cell_type": "markdown",
   "id": "fc0348e0-ceff-4379-9449-6a9f75469bfd",
   "metadata": {},
   "source": [
    "# Creating Neural Networks with Scikit-Learn and Keras"
   ]
  }
 ],
 "metadata": {
  "kernelspec": {
   "display_name": "Python 3 (ipykernel)",
   "language": "python",
   "name": "python3"
  },
  "language_info": {
   "codemirror_mode": {
    "name": "ipython",
    "version": 3
   },
   "file_extension": ".py",
   "mimetype": "text/x-python",
   "name": "python",
   "nbconvert_exporter": "python",
   "pygments_lexer": "ipython3",
   "version": "3.9.6"
  }
 },
 "nbformat": 4,
 "nbformat_minor": 5
}