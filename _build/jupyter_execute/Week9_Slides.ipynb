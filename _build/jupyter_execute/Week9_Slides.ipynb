{
 "cells": [
  {
   "cell_type": "markdown",
   "id": "ca84b79c-3bcd-4ce2-bc60-18a6c46e85a8",
   "metadata": {},
   "source": [
    "# Creating Neural Networks from Scratch\n",
    "\n",
    "CSC/DSC 340 Week 9 Slides\n",
    "\n",
    "Author: [Dr. Julie Butler](www.juliebutler.org)\n",
    "\n",
    "Date Created: October 16, 2023\n",
    "\n",
    "Last Modified: October 16, 2023"
   ]
  },
  {
   "cell_type": "markdown",
   "id": "37244621",
   "metadata": {},
   "source": [
    "* This week we will learn how to create neural networks from scratch, using the Python library JAX to perform the optimization.\n",
    "* Another common library for this task is _autograd_ but it is no longer being maintained"
   ]
  },
  {
   "cell_type": "markdown",
   "id": "130e89ef",
   "metadata": {},
   "source": [
    "## Review of Neural Network Equations \n",
    "\n",
    "* A return to Week 7 Slides"
   ]
  },
  {
   "cell_type": "markdown",
   "id": "c893f087",
   "metadata": {},
   "source": [
    "## Creating a Neural Network from Scratch Using JAX\n",
    "\n",
    "* JAX is an automatic differentiation library in Python that can find the derivative of any chunk of code it is given.  \n",
    "* If you are interested you can read more about the library [here](https://github.com/google/jax)."
   ]
  },
  {
   "cell_type": "code",
   "execution_count": 1,
   "id": "f6a56456",
   "metadata": {},
   "outputs": [],
   "source": [
    "# IMPORTS\n",
    "# Math for the ceiling function\n",
    "from math import ceil\n",
    "# Matplotlib for graphing capabilities\n",
    "from matplotlib import pyplot as plt\n",
    "# Numpy for arrays\n",
    "import numpy as np\n",
    "# Modules from the JAX library for creating neural networks\n",
    "import jax.numpy as jnp\n",
    "from jax import grad\n",
    "from jax import random as npr"
   ]
  },
  {
   "cell_type": "markdown",
   "id": "c1c0ee3d",
   "metadata": {},
   "source": [
    "### Generate the Data Set\n",
    "\n",
    "Let's keep things simple and generate a data points from a Gaussian curve.  We will have our x data be evenly space between -10 and 10 and our y data be the corresponding points on a Gaussian curve.\n"
   ]
  },
  {
   "cell_type": "code",
   "execution_count": 2,
   "id": "1391bbf8",
   "metadata": {},
   "outputs": [],
   "source": [
    "# Let's create a data set that is just a basic Gaussian curve\n",
    "X = np.linspace(-10,10,250)\n",
    "y = np.exp(-X**2)\n"
   ]
  },
  {
   "cell_type": "markdown",
   "id": "af1dc092",
   "metadata": {},
   "source": [
    "### Perform a Train-Test Split\n"
   ]
  },
  {
   "cell_type": "code",
   "execution_count": 3,
   "id": "89b79484",
   "metadata": {},
   "outputs": [],
   "source": [
    "# We will split the data set into two pieces, a training data set that contains\n",
    "# 80% of the total data and a test set that contains the other 20%\n",
    "from sklearn.model_selection import train_test_split\n",
    "train_size = 0.8\n",
    "X_train, X_test, y_train, y_test = train_test_split(X, y, train_size=train_size)\n"
   ]
  },
  {
   "cell_type": "markdown",
   "id": "5977c262",
   "metadata": {},
   "source": [
    "### Define the Neural Network\n",
    "\n",
    "First we will define the sigmoid function as our activation function.\n",
    "\n"
   ]
  },
  {
   "cell_type": "code",
   "execution_count": 4,
   "id": "30e5abae",
   "metadata": {},
   "outputs": [],
   "source": [
    "def sigmoid(x):\n",
    "    \"\"\"\n",
    "        Calculates the value of the sigmoid function for \n",
    "        a given input of x\n",
    "    \"\"\"\n",
    "    return 1. / (1. + jnp.exp(-x))"
   ]
  },
  {
   "cell_type": "markdown",
   "id": "40b018a7",
   "metadata": {},
   "source": [
    "* Now we will define our neural network.  \n",
    "* Here we will be using an architecture with two hidden layers, each using the sigmoid activation function, and an output layer which does not have an activation function.  \n",
    "* Note that we do not use the bias offset in this code\n"
   ]
  },
  {
   "cell_type": "code",
   "execution_count": 5,
   "id": "d2c5cc84",
   "metadata": {},
   "outputs": [],
   "source": [
    "def neural_network(W, x):\n",
    "    \"\"\"\n",
    "        Inputs:\n",
    "            W (a list): the weights of the neural network\n",
    "            x (a float): the input value of the neural network\n",
    "        Returns:\n",
    "            Unnamed (a float): The output of the neural network\n",
    "        Defines a neural network with one hidden layer.  The number of neurons in\n",
    "        the hidden layer is the length of W[0]. The activation function is the \n",
    "        sigmoid function on the hidden layer an none on the output layer.\n",
    "    \"\"\"\n",
    "    # Calculate the output for the neurons in the hidden layers\n",
    "    hidden_layer1 = sigmoid(jnp.dot(x,W[0]))\n",
    "    hidden_layer2 = sigmoid(jnp.dot(hidden_layer1, W[1]))\n",
    "    # Calculate the result for the output neuron\n",
    "    return jnp.dot(hidden_layer2, W[2])"
   ]
  },
  {
   "cell_type": "markdown",
   "id": "2ce10ee9",
   "metadata": {},
   "source": [
    "### Define the Loss Function\n",
    "\n",
    "Now we need to define our loss function.  For simplicity we will be using the mean-squared error loss function, which is a very common loss function for training neural networks.\n"
   ]
  },
  {
   "cell_type": "code",
   "execution_count": 6,
   "id": "11b15bc8",
   "metadata": {},
   "outputs": [],
   "source": [
    "def loss_function(W, x, y):\n",
    "    \"\"\"\n",
    "        Inputs:\n",
    "            W (a list): the weights of the neural network\n",
    "            t (a 1D NumPy array): the times to calculate the predicted position at\n",
    "        Returns:\n",
    "            loss_sum (a float): The total loss over all times\n",
    "        The loss function for the neural network to solve for position given \n",
    "        a function for acceleration.\n",
    "    \"\"\"\n",
    "    # Define a variable to hold the total loss\n",
    "    loss_sum = 0.\n",
    "    # Loop through each individual time\n",
    "    for i in range(len(x)):\n",
    "        # Get the output of the neural network with the given set of weights\n",
    "        nn = neural_network(W, x[i])[0][0]\n",
    "        err_sqr = (nn-y[i])**2\n",
    "        # Update the loss sum\n",
    "        loss_sum += err_sqr\n",
    "    loss_sum /= len(x)\n",
    "    # Return the loss sum    \n",
    "    return loss_sum"
   ]
  },
  {
   "cell_type": "markdown",
   "id": "73b8c81e",
   "metadata": {},
   "source": [
    "### Train the Neural Network\n",
    "\n",
    "* Finally we need to train our neural network.  \n",
    "* We will start by randomly initializing the weights of our neural network (with 25 neurons per hidden layer)."
   ]
  },
  {
   "cell_type": "code",
   "execution_count": 7,
   "id": "5e64ad74",
   "metadata": {},
   "outputs": [],
   "source": [
    "# Generate the key for the random number generator\n",
    "key = npr.PRNGKey(0)\n",
    "# Set the number of neurons in the hidden layer\n",
    "number_hidden_neurons = 25\n",
    "# Initialize the weights of the neural network with random numbers\n",
    "W = [npr.normal(key,(1, number_hidden_neurons)), \n",
    "     npr.normal(key,(number_hidden_neurons,number_hidden_neurons)), \n",
    "     npr.normal(key,(number_hidden_neurons, 1))]"
   ]
  },
  {
   "cell_type": "markdown",
   "id": "72be739a",
   "metadata": {},
   "source": [
    "* We then define the parameters for the learning rate, the number of training iterations, and the threshold for stopping the training.\n"
   ]
  },
  {
   "cell_type": "code",
   "execution_count": 8,
   "id": "12985475",
   "metadata": {},
   "outputs": [],
   "source": [
    "# Set the learning rate and the number of training iterations for the network\n",
    "learning_rate = 0.01\n",
    "num_training_iterations = 100\n",
    "threshold = 0.0001\n",
    "previous_loss = 0"
   ]
  },
  {
   "cell_type": "markdown",
   "id": "696810fe",
   "metadata": {},
   "source": [
    "* Next, we perform gradient descent to update the weights of the neural network over for the set number of training iterations, or until the loss function value converges to some set threshold.\n",
    "\n",
    "**WARNING**: This cell will take a long time to run.\n",
    "\n"
   ]
  },
  {
   "cell_type": "code",
   "execution_count": 9,
   "id": "4aa2104a",
   "metadata": {},
   "outputs": [
    {
     "name": "stdout",
     "output_type": "stream",
     "text": [
      "Training Iteration: 1\n",
      "Loss: 5.3948293\n",
      "\n"
     ]
    },
    {
     "name": "stdout",
     "output_type": "stream",
     "text": [
      "Training Iteration: 2\n",
      "Loss: 3.73042\n",
      "\n"
     ]
    },
    {
     "name": "stdout",
     "output_type": "stream",
     "text": [
      "Training Iteration: 3\n",
      "Loss: 2.6401887\n",
      "\n"
     ]
    },
    {
     "name": "stdout",
     "output_type": "stream",
     "text": [
      "Training Iteration: 4\n",
      "Loss: 1.9165754\n",
      "\n"
     ]
    },
    {
     "name": "stdout",
     "output_type": "stream",
     "text": [
      "Training Iteration: 5\n",
      "Loss: 1.428656\n",
      "\n"
     ]
    },
    {
     "name": "stdout",
     "output_type": "stream",
     "text": [
      "Training Iteration: 6\n",
      "Loss: 1.0936975\n",
      "\n"
     ]
    },
    {
     "name": "stdout",
     "output_type": "stream",
     "text": [
      "Training Iteration: 7\n",
      "Loss: 0.85916555\n",
      "\n"
     ]
    },
    {
     "name": "stdout",
     "output_type": "stream",
     "text": [
      "Training Iteration: 8\n",
      "Loss: 0.69148195\n",
      "\n"
     ]
    },
    {
     "name": "stdout",
     "output_type": "stream",
     "text": [
      "Training Iteration: 9\n",
      "Loss: 0.5690006\n",
      "\n"
     ]
    },
    {
     "name": "stdout",
     "output_type": "stream",
     "text": [
      "Training Iteration: 10\n",
      "Loss: 0.4776287\n",
      "\n"
     ]
    },
    {
     "name": "stdout",
     "output_type": "stream",
     "text": [
      "Training Iteration: 11\n",
      "Loss: 0.40808192\n",
      "\n"
     ]
    },
    {
     "name": "stdout",
     "output_type": "stream",
     "text": [
      "Training Iteration: 12\n",
      "Loss: 0.35415912\n",
      "\n"
     ]
    },
    {
     "name": "stdout",
     "output_type": "stream",
     "text": [
      "Training Iteration: 13\n",
      "Loss: 0.31165215\n",
      "\n"
     ]
    },
    {
     "name": "stdout",
     "output_type": "stream",
     "text": [
      "Training Iteration: 14\n",
      "Loss: 0.27765605\n",
      "\n"
     ]
    },
    {
     "name": "stdout",
     "output_type": "stream",
     "text": [
      "Training Iteration: 15\n",
      "Loss: 0.25012755\n",
      "\n"
     ]
    },
    {
     "name": "stdout",
     "output_type": "stream",
     "text": [
      "Training Iteration: 16\n",
      "Loss: 0.22760028\n",
      "\n"
     ]
    },
    {
     "name": "stdout",
     "output_type": "stream",
     "text": [
      "Training Iteration: 17\n",
      "Loss: 0.20900093\n",
      "\n"
     ]
    },
    {
     "name": "stdout",
     "output_type": "stream",
     "text": [
      "Training Iteration: 18\n",
      "Loss: 0.19352901\n",
      "\n"
     ]
    },
    {
     "name": "stdout",
     "output_type": "stream",
     "text": [
      "Training Iteration: 19\n",
      "Loss: 0.18057571\n",
      "\n"
     ]
    },
    {
     "name": "stdout",
     "output_type": "stream",
     "text": [
      "Training Iteration: 20\n",
      "Loss: 0.1696702\n",
      "\n"
     ]
    },
    {
     "name": "stdout",
     "output_type": "stream",
     "text": [
      "Training Iteration: 21\n",
      "Loss: 0.16044348\n",
      "\n"
     ]
    },
    {
     "name": "stdout",
     "output_type": "stream",
     "text": [
      "Training Iteration: 22\n",
      "Loss: 0.15260157\n",
      "\n"
     ]
    }
   ],
   "source": [
    "# Train the neural network for the specified number of iterations\n",
    "# Update the weights using the learning rates\n",
    "for i in range(num_training_iterations):\n",
    "    print(\"Training Iteration:\", i+1)\n",
    "    current_loss = loss_function(W,X_train,y_train)\n",
    "    print(\"Loss:\", current_loss)\n",
    "    print()\n",
    "    # If the current loss is within a set threshold of the previous loss, stop\n",
    "    # the training\n",
    "    if np.abs(current_loss-previous_loss) < threshold:\n",
    "        break;\n",
    "    # Calculate the gradient of the loss function and then use that gradient to\n",
    "    # update the weights of the neural network using the learning rate and the \n",
    "    # gradient descent optimization method\n",
    "    loss_grad =  grad(loss_function)(W, X_train, y_train)\n",
    "    # Update first hidden layer\n",
    "    W[0] = W[0] - learning_rate * loss_grad[0]\n",
    "    # Update second hidden layer\n",
    "    W[1] = W[1] - learning_rate * loss_grad[1]\n",
    "    # Update output layer\n",
    "    W[2] = W[2] - learning_rate * loss_grad[2]\n",
    "    previous_loss = current_loss"
   ]
  },
  {
   "cell_type": "markdown",
   "id": "e6ef1b5b",
   "metadata": {},
   "source": [
    "### Analyze the Results\n",
    "\n",
    "Now we need to analyze the performance of our neural network using the test data set that was reserved earlier.  First we need to generate the neural network predictions for the y component of the test data set."
   ]
  },
  {
   "cell_type": "code",
   "execution_count": 10,
   "id": "68268695",
   "metadata": {},
   "outputs": [],
   "source": [
    "y_nn = [neural_network(W, xi)[0][0] for xi in X_test] "
   ]
  },
  {
   "cell_type": "markdown",
   "id": "0eff4226",
   "metadata": {},
   "source": [
    "First lets analyze the results graphically by plotting the predicted test data set and the true test data set on the same graph.\n",
    "\n"
   ]
  },
  {
   "cell_type": "code",
   "execution_count": 11,
   "id": "8b317da3",
   "metadata": {},
   "outputs": [
    {
     "data": {
      "text/plain": [
       "Text(0, 0.5, 'y')"
      ]
     },
     "execution_count": 11,
     "metadata": {},
     "output_type": "execute_result"
    },
    {
     "data": {
      "image/png": "[encoded data removed]",
      "text/plain": [
       "<Figure size 640x480 with 1 Axes>"
      ]
     },
     "metadata": {},
     "output_type": "display_data"
    }
   ],
   "source": [
    "plt.scatter(X_test, y_nn, s=50, color=\"blue\",label=\"NN Prediction\")\n",
    "plt.scatter(X_test, y_test, s=50, color=\"red\", label=\"True Data\")\n",
    "plt.legend(fontsize=12)\n",
    "plt.xlabel(\"X\",fontsize=14)\n",
    "plt.ylabel(\"y\",fontsize=14)"
   ]
  },
  {
   "cell_type": "markdown",
   "id": "c8833426",
   "metadata": {},
   "source": [
    "Next let's analyze the error numerically using the root mean-squared error (RMSE) function, which is simiply the square root of the mean-squared error.  The RMSE gives the average error on each data point (instead of the squared average error) so it is a met more of a clear metric for error analysis.  First, let's define a function to calculate the RMSE between two data sets.\n",
    "\n"
   ]
  },
  {
   "cell_type": "code",
   "execution_count": 12,
   "id": "d59a10a5",
   "metadata": {},
   "outputs": [],
   "source": [
    "def rmse(A,B):\n",
    "    \"\"\"\n",
    "        Inputs:\n",
    "            A,B (NumPy arrays)\n",
    "        Returns:\n",
    "            Unnamed (a float): the RMSE error between A and B\n",
    "        Calculates the RMSE error between A and B.\n",
    "    \"\"\"\n",
    "    assert len(A)==len(B),\"The data sets must be the same length to calcualte\\\n",
    "        the RMSE.\"\n",
    "    return np.sqrt(np.average((A-B)**2)) \n",
    "\n"
   ]
  },
  {
   "cell_type": "markdown",
   "id": "513d08b2",
   "metadata": {},
   "source": [
    "Now let's print the RMSE between the true test data set and the neural network prediction.\n",
    "\n",
    "\n",
    "\n",
    "\n",
    "\n",
    "\n",
    "\n",
    "\n",
    "\n",
    "\n",
    "\n",
    "\n"
   ]
  },
  {
   "cell_type": "code",
   "execution_count": 13,
   "id": "382781d2",
   "metadata": {},
   "outputs": [
    {
     "name": "stdout",
     "output_type": "stream",
     "text": [
      "RMSE between true test set and neural network result: 0.28406674843753915\n"
     ]
    }
   ],
   "source": [
    "print(\"RMSE between true test set and neural network result:\", rmse(y_nn,y_test))"
   ]
  },
  {
   "cell_type": "markdown",
   "id": "1a0de2f6",
   "metadata": {},
   "source": [
    "## Hyperparameter Tuning: Changing the Number of Layers, the Number of Hidden Neurons, and the Activation Function"
   ]
  },
  {
   "cell_type": "markdown",
   "id": "ade9da95",
   "metadata": {},
   "source": [
    "* First let's change the activation function to the hyperbolic tangent function and add in an additional hidden layer"
   ]
  },
  {
   "cell_type": "code",
   "execution_count": 15,
   "id": "1227539d",
   "metadata": {},
   "outputs": [],
   "source": [
    "def neural_network(W, x):\n",
    "    \"\"\"\n",
    "        Inputs:\n",
    "            W (a list): the weights of the neural network\n",
    "            x (a float): the input value of the neural network\n",
    "        Returns:\n",
    "            Unnamed (a float): The output of the neural network\n",
    "        Defines a neural network with one hidden layer.  The number of neurons in\n",
    "        the hidden layer is the length of W[0]. The activation function is the \n",
    "        sigmoid function on the hidden layer an none on the output layer.\n",
    "    \"\"\"\n",
    "    # Calculate the output for the neurons in the hidden layers\n",
    "    hidden_layer1 = jnp.tanh(jnp.dot(x,W[0]))\n",
    "    hidden_layer2 = jnp.tanh(jnp.dot(hidden_layer1, W[1]))\n",
    "    hidden_layer3 = jnp.tanh(jnp.dot(hidden_layer2, W[2]))\n",
    "    # Calculate the result for the output neuron\n",
    "    return jnp.dot(hidden_layer3, W[3])"
   ]
  },
  {
   "cell_type": "markdown",
   "id": "877f041c",
   "metadata": {},
   "source": [
    "* We also need to change the weights matrix to reflect the additional hidden layer. Let's also change the number of neurons per layer to 10.\n",
    "* Not you can also change this code to have a different number of neurons per layer. The tuple passed to npr.normal just needs the form (neurons in previous layer, neurons in thsi layer)."
   ]
  },
  {
   "cell_type": "code",
   "execution_count": 16,
   "id": "02618070",
   "metadata": {},
   "outputs": [],
   "source": [
    "# Generate the key for the random number generator\n",
    "key = npr.PRNGKey(0)\n",
    "# Set the number of neurons in the hidden layer\n",
    "number_hidden_neurons = 10\n",
    "# Initialize the weights of the neural network with random numbers\n",
    "W = [npr.normal(key,(1, number_hidden_neurons)), \n",
    "     npr.normal(key,(number_hidden_neurons,number_hidden_neurons)),\n",
    "     npr.normal(key,(number_hidden_neurons,number_hidden_neurons)),\n",
    "     npr.normal(key,(number_hidden_neurons, 1))]"
   ]
  },
  {
   "cell_type": "markdown",
   "id": "47d65d8e",
   "metadata": {},
   "source": [
    "* The loss function can stay the same but we need to update the training loop so that the gradient descent is applied correctly to all layers"
   ]
  },
  {
   "cell_type": "code",
   "execution_count": 17,
   "id": "24dd6f43",
   "metadata": {},
   "outputs": [
    {
     "name": "stdout",
     "output_type": "stream",
     "text": [
      "Training Iteration: 1\n",
      "Loss: 1.1299691\n",
      "\n",
      "Training Iteration: 2\n",
      "Loss: 0.6174519\n",
      "\n",
      "Training Iteration: 3\n",
      "Loss: 0.31264007\n",
      "\n",
      "Training Iteration: 4\n",
      "Loss: 0.16775803\n",
      "\n",
      "Training Iteration: 5\n",
      "Loss: 0.14251728\n",
      "\n",
      "Training Iteration: 6\n",
      "Loss: 0.1224951\n",
      "\n",
      "Training Iteration: 7\n",
      "Loss: 0.10705274\n",
      "\n",
      "Training Iteration: 8\n",
      "Loss: 0.095398515\n",
      "\n",
      "Training Iteration: 9\n",
      "Loss: 0.086740516\n",
      "\n",
      "Training Iteration: 10\n",
      "Loss: 0.0803774\n",
      "\n",
      "Training Iteration: 11\n",
      "Loss: 0.07573033\n",
      "\n",
      "Training Iteration: 12\n",
      "Loss: 0.072346665\n",
      "\n",
      "Training Iteration: 13\n",
      "Loss: 0.06988322\n",
      "\n",
      "Training Iteration: 14\n",
      "Loss: 0.068086274\n",
      "\n",
      "Training Iteration: 15\n",
      "Loss: 0.06677092\n",
      "\n",
      "Training Iteration: 16\n",
      "Loss: 0.065803535\n",
      "\n",
      "Training Iteration: 17\n",
      "Loss: 0.065088086\n",
      "\n",
      "Training Iteration: 18\n",
      "Loss: 0.06455563\n",
      "\n",
      "Training Iteration: 19\n",
      "Loss: 0.06415678\n",
      "\n",
      "Training Iteration: 20\n",
      "Loss: 0.063855894\n",
      "\n",
      "Training Iteration: 21\n",
      "Loss: 0.06362721\n",
      "\n",
      "Training Iteration: 22\n",
      "Loss: 0.06345217\n",
      "\n",
      "Training Iteration: 23\n",
      "Loss: 0.06331712\n",
      "\n",
      "Training Iteration: 24\n",
      "Loss: 0.06321208\n",
      "\n",
      "Training Iteration: 25\n",
      "Loss: 0.06312969\n",
      "\n"
     ]
    }
   ],
   "source": [
    "# Train the neural network for the specified number of iterations\n",
    "# Update the weights using the learning rates\n",
    "for i in range(num_training_iterations):\n",
    "    print(\"Training Iteration:\", i+1)\n",
    "    current_loss = loss_function(W,X_train,y_train)\n",
    "    print(\"Loss:\", current_loss)\n",
    "    print()\n",
    "    # If the current loss is within a set threshold of the previous loss, stop\n",
    "    # the training\n",
    "    if np.abs(current_loss-previous_loss) < threshold:\n",
    "        break;\n",
    "    # Calculate the gradient of the loss function and then use that gradient to\n",
    "    # update the weights of the neural network using the learning rate and the \n",
    "    # gradient descent optimization method\n",
    "    loss_grad =  grad(loss_function)(W, X_train, y_train)\n",
    "    # Update first hidden layer\n",
    "    W[0] = W[0] - learning_rate * loss_grad[0]\n",
    "    # Update second hidden layer\n",
    "    W[1] = W[1] - learning_rate * loss_grad[1]\n",
    "    # Update the third hidden layer\n",
    "    W[2] = W[2] - learning_rate * loss_grad[2]\n",
    "    # Update the output layer\n",
    "    W[3] = W[3] - learning_rate * loss_grad[3]\n",
    "    previous_loss = current_loss"
   ]
  },
  {
   "cell_type": "markdown",
   "id": "ef7783ad",
   "metadata": {},
   "source": [
    "* The analysis code can be the same"
   ]
  },
  {
   "cell_type": "code",
   "execution_count": 19,
   "id": "0b2f7bc0",
   "metadata": {},
   "outputs": [
    {
     "name": "stdout",
     "output_type": "stream",
     "text": [
      "RMSE between true test set and neural network result: 0.2615405748140697\n"
     ]
    },
    {
     "data": {
      "image/png": "[encoded data removed]",
      "text/plain": [
       "<Figure size 640x480 with 1 Axes>"
      ]
     },
     "metadata": {},
     "output_type": "display_data"
    }
   ],
   "source": [
    "y_nn = [neural_network(W, xi)[0][0] for xi in X_test] \n",
    "\n",
    "plt.scatter(X_test, y_nn, s=50, color=\"blue\",label=\"NN Prediction\")\n",
    "plt.scatter(X_test, y_test, s=50, color=\"red\", label=\"True Data\")\n",
    "plt.legend(fontsize=12)\n",
    "plt.xlabel(\"X\",fontsize=14)\n",
    "plt.ylabel(\"y\",fontsize=14)\n",
    "\n",
    "print(\"RMSE between true test set and neural network result:\", rmse(y_nn,y_test))"
   ]
  },
  {
   "cell_type": "code",
   "execution_count": null,
   "id": "b6c98a32",
   "metadata": {},
   "outputs": [],
   "source": []
  }
 ],
 "metadata": {
  "kernelspec": {
   "display_name": "Python 3 (ipykernel)",
   "language": "python",
   "name": "python3"
  },
  "language_info": {
   "codemirror_mode": {
    "name": "ipython",
    "version": 3
   },
   "file_extension": ".py",
   "mimetype": "text/x-python",
   "name": "python",
   "nbconvert_exporter": "python",
   "pygments_lexer": "ipython3",
   "version": "3.9.6"
  }
 },
 "nbformat": 4,
 "nbformat_minor": 5
}